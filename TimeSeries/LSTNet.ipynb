{
 "cells": [
  {
   "cell_type": "code",
   "execution_count": 1,
   "metadata": {},
   "outputs": [],
   "source": [
    "import numpy as np\n",
    "import pandas as pd\n",
    "\n",
    "import seaborn as sns\n",
    "import matplotlib.pyplot as plt\n",
    "\n",
    "import os\n",
    "import gc\n",
    "from tqdm import tqdm\n",
    "import random\n",
    "\n",
    "import warnings\n",
    "warnings.filterwarnings('ignore')"
   ]
  },
  {
   "cell_type": "code",
   "execution_count": 2,
   "metadata": {},
   "outputs": [],
   "source": [
    "from tensorflow import keras\n",
    "# import keras.backend as K\n",
    "import tensorflow as tf\n",
    "from tensorflow.keras import optimizers, callbacks\n",
    "from tensorflow.keras.layers import Dense, Concatenate, Activation, Add, BatchNormalization, Dropout, Input, Conv1D, MaxPooling1D, GRU, Lambda\n",
    "from tensorflow.keras.models import Model, Sequential, load_model\n",
    "\n",
    "SEED = 42\n",
    "np.random.seed(SEED)\n",
    "tf.random.set_seed(SEED)\n",
    "os.environ['PYTHONHASHSEED']=str(SEED)\n",
    "random.seed(SEED)\n",
    "gpus = tf.config.experimental.list_physical_devices('GPU')\n",
    "if gpus:\n",
    "    try:\n",
    "        tf.config.experimental.set_memory_growth(gpus[0], True)\n",
    "    except RuntimeError as e:\n",
    "        # 프로그램 시작시에 메모리 증가가 설정되어야만 합니다\n",
    "        print(e)\n",
    "\n",
    "def mish(x):\n",
    "    return x*tf.math.tanh(tf.math.softplus(x))\n",
    "\n",
    "def decay(epochs):\n",
    "    init = 1e-3\n",
    "    drop = 10\n",
    "    ratio = 0.9\n",
    "    return max(5e-5, (init * (ratio ** (epochs//drop))))\n",
    "\n",
    "es = callbacks.EarlyStopping(patience=10, restore_best_weights=True)\n",
    "lrs = callbacks.LearningRateScheduler(decay, verbose=0)\n"
   ]
  },
  {
   "cell_type": "code",
   "execution_count": 3,
   "metadata": {},
   "outputs": [],
   "source": [
    "from tensorflow.keras.layers import add\n",
    "\n",
    "class LSTNet(keras.Model):\n",
    "    def __init__(self):\n",
    "        super(LSTNet, self).__init__()\n",
    "        self.P = 120 # data length\n",
    "        self.m = 32 # data width\n",
    "        self.hidR = 32\n",
    "        self.hidC = 64\n",
    "        self.hidS = 1\n",
    "        self.ks = 3\n",
    "        self.skip = 2\n",
    "        self.pt = int((self.P-self.ks)/self.skip)\n",
    "        self.hw = 3\n",
    "        self.output_dim = 1\n",
    "        \n",
    "        self.model = self.make_model()\n",
    "        \n",
    "#         self.loss_fn = tf.keras.losses.MeanSquaredError()\n",
    "#         self.optim = optimizers.Adam()\n",
    "        \n",
    "    def compile(self, optimizer, loss):\n",
    "        super(LSTNet, self).compile()\n",
    "        self.loss_functions = loss\n",
    "        self.optimizer = optimizer\n",
    "        self._is_compiled = True\n",
    "\n",
    "    def make_model(self):\n",
    "        activation = mish\n",
    "        \n",
    "        x = Input(shape=(self.P, self.m))\n",
    "\n",
    "        # CNN\n",
    "        c = Conv1D(self.hidC, self.ks, activation='relu')(x)\n",
    "\n",
    "        # RNN\n",
    "        r = GRU(self.hidR)(c)\n",
    "        r = Lambda(lambda k: tf.reshape(k, (-1, self.hidR)))(r)\n",
    "\n",
    "        # skip-RNN\n",
    "        if self.skip > 0:\n",
    "            # c: batch_size*steps*filters, steps=P-ks\n",
    "            s = Lambda(lambda k: k[:, int(-self.pt*self.skip):, :])(c)\n",
    "            s = Lambda(lambda k: tf.reshape(k, (-1, self.pt, self.skip, self.hidC)))(s)\n",
    "            s = Lambda(lambda k: tf.transpose(k, (0,2,1,3)))(s)\n",
    "            s = Lambda(lambda k: tf.reshape(k, (-1, self.pt, self.hidC)))(s)\n",
    "\n",
    "            s = GRU(self.hidS)(s)\n",
    "            s = Lambda(lambda k: tf.reshape(k, (-1, self.skip*self.hidS)))(s)\n",
    "            r = Concatenate()([r,s])\n",
    "        \n",
    "        res = Dense(self.m)(r)\n",
    "\n",
    "        # highway\n",
    "        if self.hw > 0:\n",
    "            z = Lambda(lambda k: k[:, -self.hw:, :])(x)\n",
    "            z = Lambda(lambda k: tf.transpose(k, (0,2,1)))(z)\n",
    "            z = Lambda(lambda k: tf.reshape(k, (-1, self.hw)))(z)\n",
    "            z = Dense(1)(z)\n",
    "            z = Lambda(lambda k: tf.reshape(k, (-1, self.m)))(z)\n",
    "            res = add([res, z])\n",
    "\n",
    "        res = Dense(self.output_dim)(res)\n",
    "        model = Model(inputs=x, outputs=res)\n",
    "        return model\n",
    "    \n",
    "#     def call(self, x):\n",
    "#         return self.model(x)\n",
    "    \n",
    "    def train_step(self, data):\n",
    "        x, y = data\n",
    "        batch_size = tf.shape(x)[0]\n",
    "        \n",
    "        with tf.GradientTape() as tape:\n",
    "            pred = self.model(x, training=True)\n",
    "            loss = self.loss_functions(y, pred)\n",
    "            \n",
    "        grads = tape.gradient(loss, self.model.trainable_weights)\n",
    "        self.optimizer.apply_gradients(zip(grads, self.model.trainable_weights))\n",
    "        \n",
    "        return {'loss': loss}"
   ]
  },
  {
   "cell_type": "code",
   "execution_count": 4,
   "metadata": {},
   "outputs": [],
   "source": [
    "net = LSTNet()"
   ]
  },
  {
   "cell_type": "code",
   "execution_count": 5,
   "metadata": {},
   "outputs": [
    {
     "name": "stdout",
     "output_type": "stream",
     "text": [
      "Model: \"functional_1\"\n",
      "__________________________________________________________________________________________________\n",
      "Layer (type)                    Output Shape         Param #     Connected to                     \n",
      "==================================================================================================\n",
      "input_1 (InputLayer)            [(None, 120, 32)]    0                                            \n",
      "__________________________________________________________________________________________________\n",
      "conv1d (Conv1D)                 (None, 118, 64)      6208        input_1[0][0]                    \n",
      "__________________________________________________________________________________________________\n",
      "lambda_1 (Lambda)               (None, 116, 64)      0           conv1d[0][0]                     \n",
      "__________________________________________________________________________________________________\n",
      "lambda_2 (Lambda)               (None, 58, 2, 64)    0           lambda_1[0][0]                   \n",
      "__________________________________________________________________________________________________\n",
      "lambda_3 (Lambda)               (None, 2, 58, 64)    0           lambda_2[0][0]                   \n",
      "__________________________________________________________________________________________________\n",
      "lambda_4 (Lambda)               (None, 58, 64)       0           lambda_3[0][0]                   \n",
      "__________________________________________________________________________________________________\n",
      "lambda_6 (Lambda)               (None, 3, 32)        0           input_1[0][0]                    \n",
      "__________________________________________________________________________________________________\n",
      "gru (GRU)                       (None, 32)           9408        conv1d[0][0]                     \n",
      "__________________________________________________________________________________________________\n",
      "gru_1 (GRU)                     (None, 1)            201         lambda_4[0][0]                   \n",
      "__________________________________________________________________________________________________\n",
      "lambda_7 (Lambda)               (None, 32, 3)        0           lambda_6[0][0]                   \n",
      "__________________________________________________________________________________________________\n",
      "lambda (Lambda)                 (None, 32)           0           gru[0][0]                        \n",
      "__________________________________________________________________________________________________\n",
      "lambda_5 (Lambda)               (None, 2)            0           gru_1[0][0]                      \n",
      "__________________________________________________________________________________________________\n",
      "lambda_8 (Lambda)               (None, 3)            0           lambda_7[0][0]                   \n",
      "__________________________________________________________________________________________________\n",
      "concatenate (Concatenate)       (None, 34)           0           lambda[0][0]                     \n",
      "                                                                 lambda_5[0][0]                   \n",
      "__________________________________________________________________________________________________\n",
      "dense_1 (Dense)                 (None, 1)            4           lambda_8[0][0]                   \n",
      "__________________________________________________________________________________________________\n",
      "dense (Dense)                   (None, 32)           1120        concatenate[0][0]                \n",
      "__________________________________________________________________________________________________\n",
      "lambda_9 (Lambda)               (None, 32)           0           dense_1[0][0]                    \n",
      "__________________________________________________________________________________________________\n",
      "add (Add)                       (None, 32)           0           dense[0][0]                      \n",
      "                                                                 lambda_9[0][0]                   \n",
      "__________________________________________________________________________________________________\n",
      "dense_2 (Dense)                 (None, 1)            33          add[0][0]                        \n",
      "==================================================================================================\n",
      "Total params: 16,974\n",
      "Trainable params: 16,974\n",
      "Non-trainable params: 0\n",
      "__________________________________________________________________________________________________\n"
     ]
    }
   ],
   "source": [
    "net.model.summary()"
   ]
  },
  {
   "cell_type": "code",
   "execution_count": 6,
   "metadata": {},
   "outputs": [],
   "source": [
    "X = np.random.normal(0, 1, (1000, 120, 32))\n",
    "y = np.random.normal(0, 1, (1000, 1))"
   ]
  },
  {
   "cell_type": "code",
   "execution_count": 7,
   "metadata": {
    "scrolled": true
   },
   "outputs": [],
   "source": [
    "net.compile(optimizer=optimizers.Adam(), loss=keras.losses.MeanSquaredError())"
   ]
  },
  {
   "cell_type": "code",
   "execution_count": 8,
   "metadata": {
    "scrolled": true
   },
   "outputs": [
    {
     "name": "stdout",
     "output_type": "stream",
     "text": [
      "Epoch 1/10\n",
      "32/32 [==============================] - 1s 16ms/step - loss: 1.1287\n",
      "Epoch 2/10\n",
      "32/32 [==============================] - 0s 14ms/step - loss: 0.9030\n",
      "Epoch 3/10\n",
      "32/32 [==============================] - 0s 14ms/step - loss: 0.8530\n",
      "Epoch 4/10\n",
      "32/32 [==============================] - 0s 16ms/step - loss: 0.7710\n",
      "Epoch 5/10\n",
      "32/32 [==============================] - 0s 15ms/step - loss: 0.6636\n",
      "Epoch 6/10\n",
      "32/32 [==============================] - 0s 15ms/step - loss: 0.5545\n",
      "Epoch 7/10\n",
      "32/32 [==============================] - 0s 15ms/step - loss: 0.4240\n",
      "Epoch 8/10\n",
      "32/32 [==============================] - 0s 15ms/step - loss: 0.2760\n",
      "Epoch 9/10\n",
      "32/32 [==============================] - 0s 15ms/step - loss: 0.1795\n",
      "Epoch 10/10\n",
      "32/32 [==============================] - 1s 16ms/step - loss: 0.1079\n"
     ]
    },
    {
     "data": {
      "text/plain": [
       "<tensorflow.python.keras.callbacks.History at 0x19e10191cc8>"
      ]
     },
     "execution_count": 8,
     "metadata": {},
     "output_type": "execute_result"
    }
   ],
   "source": [
    "net.fit(X, y, \n",
    "       epochs = 10)"
   ]
  }
 ],
 "metadata": {
  "kernelspec": {
   "display_name": "Python 3",
   "language": "python",
   "name": "python3"
  },
  "language_info": {
   "codemirror_mode": {
    "name": "ipython",
    "version": 3
   },
   "file_extension": ".py",
   "mimetype": "text/x-python",
   "name": "python",
   "nbconvert_exporter": "python",
   "pygments_lexer": "ipython3",
   "version": "3.7.7"
  },
  "toc": {
   "base_numbering": 1,
   "nav_menu": {},
   "number_sections": true,
   "sideBar": true,
   "skip_h1_title": false,
   "title_cell": "Table of Contents",
   "title_sidebar": "Contents",
   "toc_cell": false,
   "toc_position": {},
   "toc_section_display": true,
   "toc_window_display": false
  }
 },
 "nbformat": 4,
 "nbformat_minor": 4
}
