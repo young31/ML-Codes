{
 "cells": [
  {
   "cell_type": "code",
   "execution_count": 1,
   "metadata": {},
   "outputs": [],
   "source": [
    "import numpy as np\n",
    "import pandas as pd\n",
    "\n",
    "import seaborn as sns\n",
    "import matplotlib.pyplot as plt\n",
    "\n",
    "import os\n",
    "import gc\n",
    "from tqdm import tqdm\n",
    "import random\n",
    "\n",
    "import warnings\n",
    "warnings.filterwarnings('ignore')"
   ]
  },
  {
   "cell_type": "code",
   "execution_count": 2,
   "metadata": {},
   "outputs": [],
   "source": [
    "from tensorflow import keras\n",
    "import tensorflow as tf\n",
    "from tensorflow.keras import optimizers, callbacks, layers\n",
    "from tensorflow.keras.layers import Dense, Concatenate, Activation, Add, BatchNormalization, Dropout, Input, Reshape, Conv2D, Conv2DTranspose, Flatten\n",
    "from tensorflow.keras.models import Model, Sequential, load_model\n",
    "\n",
    "SEED = 42\n",
    "np.random.seed(SEED)\n",
    "tf.random.set_seed(SEED)\n",
    "os.environ['PYTHONHASHSEED']=str(SEED)\n",
    "random.seed(SEED)\n",
    "gpus = tf.config.experimental.list_physical_devices('GPU')\n",
    "if gpus:\n",
    "    try:\n",
    "        tf.config.experimental.set_memory_growth(gpus[0], True)\n",
    "    except RuntimeError as e:\n",
    "        # 프로그램 시작시에 메모리 증가가 설정되어야만 합니다\n",
    "        print(e)\n",
    "\n",
    "def mish(x):\n",
    "    return x*tf.math.tanh(tf.math.softplus(x))\n",
    "\n",
    "def decay(epochs):\n",
    "    init = 1e-3\n",
    "    drop = 10\n",
    "    ratio = 0.9\n",
    "    return max(5e-5, (init * (ratio ** (epochs//drop))))\n",
    "\n",
    "es = callbacks.EarlyStopping(patience=10, restore_best_weights=True)\n",
    "lrs = callbacks.LearningRateScheduler(decay, verbose=0)\n"
   ]
  },
  {
   "cell_type": "code",
   "execution_count": 3,
   "metadata": {},
   "outputs": [],
   "source": [
    "def ConvBlock(n, kernel_size=3, strides=2, bn=True, activation=mish, padding='same'):\n",
    "    def f(x):\n",
    "        x = Conv2D(n, kernel_size=kernel_size, strides=strides, padding=padding)(x)\n",
    "        x = Activation(activation)(x)         \n",
    "        if bn:\n",
    "            x = BatchNormalization(momentum=0.8)(x)\n",
    "        return x\n",
    "    return f\n",
    "\n",
    "def deConvBlock(n, kernel_size=3, strides=2, bn=True, activation=mish, padding='same'):\n",
    "    def f(x):\n",
    "        x = Conv2DTranspose(n, kernel_size=kernel_size, strides=strides, padding=padding)(x)\n",
    "        x = Activation(activation)(x)       \n",
    "        if bn:\n",
    "            x = BatchNormalization(momentum=0.8)(x)\n",
    "        return x\n",
    "    return f\n",
    "\n",
    "def sampler(batch_size, z_dim=100):\n",
    "    return tf.random.normal(shape=(batch_size, z_dim))"
   ]
  },
  {
   "cell_type": "code",
   "execution_count": 4,
   "metadata": {},
   "outputs": [],
   "source": [
    "class GAN(keras.Model):\n",
    "    def __init__(self, d_shape, z_dim):\n",
    "        super(GAN, self).__init__()\n",
    "        self.d_shape = d_shape\n",
    "        self.z_dim = z_dim\n",
    "        \n",
    "        self.generator = self.build_generator()\n",
    "        self.discriminator = self.build_discriminator()\n",
    "    \n",
    "    def compile(self, g_optim, d_optim, loss_fn):\n",
    "        super(GAN, self).compile()\n",
    "        self.g_optim = g_optim\n",
    "        self.d_optim = d_optim\n",
    "        self.loss_fn = loss_fn\n",
    "        \n",
    "    def build_generator(self):\n",
    "        inputs = Input(shape = (self.z_dim, ))\n",
    "        \n",
    "        x = Dense(128*7*7, activation='relu')(inputs)\n",
    "        x = Reshape((7, 7, 128))(x) # 7, ,7 128\n",
    "        x = BatchNormalization(momentum=0.8)(x)\n",
    "        x = deConvBlock(64)(x) # 14, 14, 64\n",
    "        x = deConvBlock(32)(x) # 28, 28, 32\n",
    "        \n",
    "        outputs = Conv2D(1, kernel_size=3, strides=1, activation='tanh', padding='same')(x) # 28, 28, 1\n",
    "        \n",
    "        gen = Model(inputs, outputs, name='generator')\n",
    "        \n",
    "        return gen\n",
    "    \n",
    "    def build_discriminator(self):\n",
    "        inputs = Input(shape = self.d_shape)\n",
    "        \n",
    "        x = ConvBlock(16)(inputs)\n",
    "        x = ConvBlock(32)(x)\n",
    "        x = ConvBlock(64)(x)\n",
    "        x = Flatten()(x)\n",
    "        \n",
    "        outputs = Dense(1, activation='sigmoid')(x)\n",
    "        \n",
    "        disc = Model(inputs, outputs, name='discriminator')\n",
    "        \n",
    "        return disc\n",
    "    \n",
    "    def train_step(self, x):\n",
    "        batch_size = tf.shape(x)[0]\n",
    "        \n",
    "        noise = sampler(batch_size)\n",
    "        \n",
    "        fake_x = self.generator(noise)\n",
    "        all_x = tf.concat([fake_x, x], 0)\n",
    "        \n",
    "        fake_labels = tf.ones((batch_size, 1))*0\n",
    "        real_labels = tf.ones((batch_size, 1))\n",
    "        labels = tf.concat([fake_labels, real_labels], 0)\n",
    "        \n",
    "        # keras official tutorial saids add noise to label is important trick\n",
    "        # labels = 0.05*tf.random.uniform(tf.shape(labels))\n",
    "        \n",
    "        # disc / gen alternatively\n",
    "        with tf.GradientTape() as tape:\n",
    "            preds = self.discriminator(all_x)\n",
    "            d_loss = self.loss_fn(labels, preds)\n",
    "\n",
    "        grads = tape.gradient(d_loss, self.discriminator.trainable_weights)\n",
    "        self.d_optim.apply_gradients(zip(grads, self.discriminator.trainable_weights))\n",
    "\n",
    "        with tf.GradientTape() as tape:\n",
    "            preds = self.discriminator(self.generator(noise))\n",
    "            g_loss = self.loss_fn(real_labels, preds)\n",
    "            \n",
    "        grads = tape.gradient(g_loss, self.generator.trainable_weights)\n",
    "        self.g_optim.apply_gradients(zip(grads, self.generator.trainable_weights))\n",
    "\n",
    "        return {'d_loss': d_loss, 'g_loss': g_loss}\n"
   ]
  },
  {
   "cell_type": "code",
   "execution_count": null,
   "metadata": {},
   "outputs": [],
   "source": []
  },
  {
   "cell_type": "code",
   "execution_count": 5,
   "metadata": {},
   "outputs": [
    {
     "data": {
      "text/plain": [
       "(70000, 28, 28, 1)"
      ]
     },
     "execution_count": 5,
     "metadata": {},
     "output_type": "execute_result"
    }
   ],
   "source": [
    "(x_train, _), (x_test, _) = keras.datasets.mnist.load_data()\n",
    "X = np.concatenate([x_train, x_test])\n",
    "X = X.astype(\"float32\") / 127.5 - 1\n",
    "X = np.expand_dims(X, -1)\n",
    "\n",
    "X.shape\n",
    "# tf.data 공부하고 추가 적용하기\n",
    "# batch_size = 32\n",
    "# data = tf.data.Dataset.from_tensor_slices(X)\n",
    "# data = data.shuffle(buffer_size=1024).batch(batch_size).prefetch(32)"
   ]
  },
  {
   "cell_type": "code",
   "execution_count": 6,
   "metadata": {
    "scrolled": true
   },
   "outputs": [],
   "source": [
    "# Check list\n",
    "## model architecture ~ for images or complicated data, carefully design\n",
    "## use callbacks to check training progress\n",
    "gan = GAN(X.shape[1:], 100)"
   ]
  },
  {
   "cell_type": "code",
   "execution_count": 7,
   "metadata": {},
   "outputs": [
    {
     "name": "stdout",
     "output_type": "stream",
     "text": [
      "Model: \"generator\"\n",
      "_________________________________________________________________\n",
      "Layer (type)                 Output Shape              Param #   \n",
      "=================================================================\n",
      "input_1 (InputLayer)         [(None, 100)]             0         \n",
      "_________________________________________________________________\n",
      "dense (Dense)                (None, 6272)              633472    \n",
      "_________________________________________________________________\n",
      "reshape (Reshape)            (None, 7, 7, 128)         0         \n",
      "_________________________________________________________________\n",
      "batch_normalization (BatchNo (None, 7, 7, 128)         512       \n",
      "_________________________________________________________________\n",
      "conv2d_transpose (Conv2DTran (None, 14, 14, 64)        73792     \n",
      "_________________________________________________________________\n",
      "activation (Activation)      (None, 14, 14, 64)        0         \n",
      "_________________________________________________________________\n",
      "batch_normalization_1 (Batch (None, 14, 14, 64)        256       \n",
      "_________________________________________________________________\n",
      "conv2d_transpose_1 (Conv2DTr (None, 28, 28, 32)        18464     \n",
      "_________________________________________________________________\n",
      "activation_1 (Activation)    (None, 28, 28, 32)        0         \n",
      "_________________________________________________________________\n",
      "batch_normalization_2 (Batch (None, 28, 28, 32)        128       \n",
      "_________________________________________________________________\n",
      "conv2d (Conv2D)              (None, 28, 28, 1)         289       \n",
      "=================================================================\n",
      "Total params: 726,913\n",
      "Trainable params: 726,465\n",
      "Non-trainable params: 448\n",
      "_________________________________________________________________\n"
     ]
    }
   ],
   "source": [
    "gan.generator.summary()"
   ]
  },
  {
   "cell_type": "code",
   "execution_count": 8,
   "metadata": {},
   "outputs": [
    {
     "name": "stdout",
     "output_type": "stream",
     "text": [
      "Model: \"discriminator\"\n",
      "_________________________________________________________________\n",
      "Layer (type)                 Output Shape              Param #   \n",
      "=================================================================\n",
      "input_2 (InputLayer)         [(None, 28, 28, 1)]       0         \n",
      "_________________________________________________________________\n",
      "conv2d_1 (Conv2D)            (None, 14, 14, 16)        160       \n",
      "_________________________________________________________________\n",
      "activation_2 (Activation)    (None, 14, 14, 16)        0         \n",
      "_________________________________________________________________\n",
      "batch_normalization_3 (Batch (None, 14, 14, 16)        64        \n",
      "_________________________________________________________________\n",
      "conv2d_2 (Conv2D)            (None, 7, 7, 32)          4640      \n",
      "_________________________________________________________________\n",
      "activation_3 (Activation)    (None, 7, 7, 32)          0         \n",
      "_________________________________________________________________\n",
      "batch_normalization_4 (Batch (None, 7, 7, 32)          128       \n",
      "_________________________________________________________________\n",
      "conv2d_3 (Conv2D)            (None, 4, 4, 64)          18496     \n",
      "_________________________________________________________________\n",
      "activation_4 (Activation)    (None, 4, 4, 64)          0         \n",
      "_________________________________________________________________\n",
      "batch_normalization_5 (Batch (None, 4, 4, 64)          256       \n",
      "_________________________________________________________________\n",
      "flatten (Flatten)            (None, 1024)              0         \n",
      "_________________________________________________________________\n",
      "dense_1 (Dense)              (None, 1)                 1025      \n",
      "=================================================================\n",
      "Total params: 24,769\n",
      "Trainable params: 24,545\n",
      "Non-trainable params: 224\n",
      "_________________________________________________________________\n"
     ]
    }
   ],
   "source": [
    "gan.discriminator.summary()"
   ]
  },
  {
   "cell_type": "code",
   "execution_count": 9,
   "metadata": {},
   "outputs": [],
   "source": [
    "class ImageCallback(callbacks.Callback):\n",
    "    def __init__(self):\n",
    "        pass\n",
    "        \n",
    "    def on_epoch_end(self, epoch, losg=None):\n",
    "        noise = sampler(1)\n",
    "        \n",
    "        fig = plt.figure(figsize=(1, 1))\n",
    "        gen_img = self.model.generator.predict(noise)\n",
    "        gen_img = np.squeeze(gen_img)\n",
    "        plt.imshow(gen_img, cmap='gray')\n",
    "        plt.show()\n",
    "        "
   ]
  },
  {
   "cell_type": "code",
   "execution_count": 10,
   "metadata": {
    "scrolled": true
   },
   "outputs": [
    {
     "name": "stdout",
     "output_type": "stream",
     "text": [
      "Epoch 1/5\n",
      "2188/2188 [==============================] - ETA: 0s - d_loss: 0.4859 - g_loss: 1.4685"
     ]
    },
    {
     "data": {
      "image/png": "[encoded data removed]",
      "text/plain": [
       "<Figure size 72x72 with 1 Axes>"
      ]
     },
     "metadata": {
      "needs_background": "light"
     },
     "output_type": "display_data"
    },
    {
     "name": "stdout",
     "output_type": "stream",
     "text": [
      "2188/2188 [==============================] - 21s 9ms/step - d_loss: 0.4858 - g_loss: 1.4686\n",
      "Epoch 2/5\n",
      "2186/2188 [============================>.] - ETA: 0s - d_loss: 0.5855 - g_loss: 1.0949"
     ]
    },
    {
     "data": {
      "image/png": "[encoded data removed]",
      "text/plain": [
       "<Figure size 72x72 with 1 Axes>"
      ]
     },
     "metadata": {
      "needs_background": "light"
     },
     "output_type": "display_data"
    },
    {
     "name": "stdout",
     "output_type": "stream",
     "text": [
      "2188/2188 [==============================] - 21s 9ms/step - d_loss: 0.5854 - g_loss: 1.0947\n",
      "Epoch 3/5\n",
      "2185/2188 [============================>.] - ETA: 0s - d_loss: 0.6082 - g_loss: 0.9507"
     ]
    },
    {
     "data": {
      "image/png": "[encoded data removed]",
      "text/plain": [
       "<Figure size 72x72 with 1 Axes>"
      ]
     },
     "metadata": {
      "needs_background": "light"
     },
     "output_type": "display_data"
    },
    {
     "name": "stdout",
     "output_type": "stream",
     "text": [
      "2188/2188 [==============================] - 21s 10ms/step - d_loss: 0.6083 - g_loss: 0.9505\n",
      "Epoch 4/5\n",
      "2184/2188 [============================>.] - ETA: 0s - d_loss: 0.6208 - g_loss: 0.9283"
     ]
    },
    {
     "data": {
      "image/png": "[encoded data removed]",
      "text/plain": [
       "<Figure size 72x72 with 1 Axes>"
      ]
     },
     "metadata": {
      "needs_background": "light"
     },
     "output_type": "display_data"
    },
    {
     "name": "stdout",
     "output_type": "stream",
     "text": [
      "2188/2188 [==============================] - 21s 10ms/step - d_loss: 0.6208 - g_loss: 0.9284\n",
      "Epoch 5/5\n",
      "2183/2188 [============================>.] - ETA: 0s - d_loss: 0.6184 - g_loss: 0.9243"
     ]
    },
    {
     "data": {
      "image/png": "[encoded data removed]",
      "text/plain": [
       "<Figure size 72x72 with 1 Axes>"
      ]
     },
     "metadata": {
      "needs_background": "light"
     },
     "output_type": "display_data"
    },
    {
     "name": "stdout",
     "output_type": "stream",
     "text": [
      "\b\b\b\b\b\b\b\b\b\b\b\b\b\b\b\b\b\b\b\b\b\b\b\b\b\b\b\b\b\b\b\b\b\b\b\b\b\b\b\b\b\b\b\b\b\b\b\b\b\b\b\b\b\b\b\b\b\b\b\b\b\b\b\b\b\b\b\b\b\b\b\b\b\b\b\b\b\b\b\b\b\b\b\b\b\b\r",
      "2188/2188 [==============================] - 20s 9ms/step - d_loss: 0.6185 - g_loss: 0.9243\n"
     ]
    },
    {
     "data": {
      "text/plain": [
       "<tensorflow.python.keras.callbacks.History at 0x1820d24ce08>"
      ]
     },
     "execution_count": 10,
     "metadata": {},
     "output_type": "execute_result"
    }
   ],
   "source": [
    "gan.compile(\n",
    "    optimizers.Adam(2e-4),\n",
    "    optimizers.Adam(2e-4),\n",
    "    keras.losses.BinaryCrossentropy()\n",
    "           )\n",
    "\n",
    "gan.fit(X, epochs=5,\n",
    "       callbacks = [ImageCallback()])\n"
   ]
  }
 ],
 "metadata": {
  "kernelspec": {
   "display_name": "Python 3",
   "language": "python",
   "name": "python3"
  },
  "language_info": {
   "codemirror_mode": {
    "name": "ipython",
    "version": 3
   },
   "file_extension": ".py",
   "mimetype": "text/x-python",
   "name": "python",
   "nbconvert_exporter": "python",
   "pygments_lexer": "ipython3",
   "version": "3.7.7"
  },
  "toc": {
   "base_numbering": 1,
   "nav_menu": {},
   "number_sections": true,
   "sideBar": true,
   "skip_h1_title": false,
   "title_cell": "Table of Contents",
   "title_sidebar": "Contents",
   "toc_cell": false,
   "toc_position": {},
   "toc_section_display": true,
   "toc_window_display": false
  }
 },
 "nbformat": 4,
 "nbformat_minor": 4
}
