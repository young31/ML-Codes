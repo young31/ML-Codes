{
 "cells": [
  {
   "cell_type": "code",
   "execution_count": 1,
   "metadata": {},
   "outputs": [],
   "source": [
    "import numpy as np\n",
    "import pandas as pd"
   ]
  },
  {
   "cell_type": "code",
   "execution_count": 2,
   "metadata": {
    "scrolled": true
   },
   "outputs": [],
   "source": [
    "from sklearn.ensemble import RandomForestClassifier\n",
    "from sklearn.metrics import roc_auc_score\n",
    "from sklearn.model_selection import train_test_split\n",
    "import lightgbm as lgb\n",
    "\n",
    "data = pd.read_csv('./data/dacon_심리.csv', index_col='index')\n",
    "\n",
    "target = data['voted'].replace(2, 0)\n",
    "data.drop('voted', axis=1, inplace=True)\n",
    "\n",
    "ctd = []\n",
    "for c in data.columns:\n",
    "    if (data[c].dtype) == 'object':\n",
    "        ctd.append(c)\n",
    "        \n",
    "data.drop(ctd, axis=1, inplace=True)\n",
    "\n",
    "tr_X, val_X, tr_y, val_y = train_test_split(data, target, test_size=0.15, random_state=42)"
   ]
  },
  {
   "cell_type": "code",
   "execution_count": 3,
   "metadata": {},
   "outputs": [],
   "source": [
    "# TODO\n",
    "## change predict / predict_proba depending on problem\n",
    "def fitness(tr_X, tr_y, val_X, val_y, model, criterion):\n",
    "    def _fitness(enc):\n",
    "        x = tr_X[extract(enc, data=tr_X)]\n",
    "        model.fit(x, tr_y)\n",
    "        return criterion(val_y, model.predict_proba(val_X[extract(enc, data=tr_X)])[:,1])\n",
    "    return _fitness\n",
    "\n",
    "def crossover(xs, n=None):\n",
    "    if n is None:\n",
    "        n = len(xs)\n",
    "    new = None\n",
    "    for i in range(n):\n",
    "        a, b = np.random.choice(range(len(xs)), 2, replace=False)\n",
    "        x1 = xs[a]; x2 = xs[b]\n",
    "        point = np.random.choice(range(len(x1)))\n",
    "        newx1 = np.hstack([x1[:point], x2[point:]])\n",
    "        newx2 = np.hstack([x2[:point], x1[point:]])\n",
    "        if new is None:\n",
    "            new = np.vstack([newx1, newx2])\n",
    "        else:\n",
    "            new = np.vstack([new, newx1, newx2])\n",
    "    return new\n",
    "\n",
    "def mutate(xs, n=None):\n",
    "    if n is None:\n",
    "        n = int(np.sqrt(len(xs))) \n",
    "    new = None\n",
    "    for i in range(len(xs)):\n",
    "        points = np.random.choice(range(xs.shape[1]), n, replace=False)\n",
    "        newx = xs[i].copy()\n",
    "        for point in points:\n",
    "            newx[point] = int(np.logical_not(newx[point]))\n",
    "            \n",
    "        if new is None:\n",
    "            new = newx\n",
    "        else:\n",
    "            new = np.vstack([new, newx])\n",
    "    return new\n",
    "\n",
    "def extract(enc, data):\n",
    "    return data.columns[enc==1]\n",
    "\n",
    "def encode(features, data):\n",
    "    res = np.zeros(data.shape[1])\n",
    "    for i, c in enumerate(data.columns):\n",
    "        if c in features:\n",
    "            res[i] = 1\n",
    "    return res"
   ]
  },
  {
   "cell_type": "code",
   "execution_count": 4,
   "metadata": {},
   "outputs": [],
   "source": [
    "def GA_select(tr_X, tr_y, val_X, val_y, model, criterion,\n",
    "             n_base=10, n_iter=10):\n",
    "    '''\n",
    "    support padnas dataframe not numpy array\n",
    "    now elite selection only, rhs or tournament will be contained\n",
    "    '''\n",
    "    n_base = n_base\n",
    "    n_iter = n_iter\n",
    "\n",
    "    bases = np.random.randint(0, 2, (n_base, tr_X.shape[1]))\n",
    "    alls = np.ones(tr_X.shape[1])\n",
    "\n",
    "    bases = np.vstack([bases, alls])\n",
    "\n",
    "    final_score = 0\n",
    "\n",
    "    for _ in range(n_iter):\n",
    "        res = {}\n",
    "        cross_base = crossover(bases)\n",
    "        mut_base = mutate(bases)\n",
    "\n",
    "        scores1 = list(map(fitness(tr_X, tr_y, val_X, val_y, model=model, criterion=criterion), bases))\n",
    "        scores2 = list(map(fitness(tr_X, tr_y, val_X, val_y, model=model, criterion=criterion), cross_base))\n",
    "        scores3 = list(map(fitness(tr_X, tr_y, val_X, val_y, model=model, criterion=criterion), mut_base))\n",
    "\n",
    "        scores = scores1+scores2+scores3\n",
    "        bases = np.vstack([bases, cross_base, mut_base])\n",
    "\n",
    "        for i in range(len(bases)):\n",
    "            res[scores[i]] = bases[i]\n",
    "\n",
    "        gen = []\n",
    "        for s in sorted(res, reverse=True)[:n_base]:\n",
    "            gen.append(res[s])\n",
    "\n",
    "        bases = np.array(gen)\n",
    "        best_score = sorted(res, reverse=True)[0]\n",
    "        print(f'iter: {_+1}', best_score)\n",
    "\n",
    "        if best_score > final_score:\n",
    "            final_score = best_score\n",
    "            features = extract(res[final_score], tr_X)\n",
    "        else:\n",
    "            break\n",
    "            \n",
    "    return features, final_score\n",
    "    "
   ]
  },
  {
   "cell_type": "code",
   "execution_count": 5,
   "metadata": {
    "scrolled": true
   },
   "outputs": [
    {
     "name": "stdout",
     "output_type": "stream",
     "text": [
      "iter: 1 0.7310523234428218\n",
      "iter: 2 0.7335996821549027\n",
      "iter: 3 0.7350549453018803\n",
      "iter: 4 0.7359893974425812\n",
      "iter: 5 0.7359893974425812\n",
      "total # of feature: 72, reduced: 45\n"
     ]
    }
   ],
   "source": [
    "model = RandomForestClassifier(random_state=42, n_jobs=-1)\n",
    "features, score = GA_select(tr_X, tr_y, val_X, val_y, model, roc_auc_score)\n",
    "print(f'total # of feature: {tr_X.shape[1]}, reduced: {len(features)}')"
   ]
  },
  {
   "cell_type": "code",
   "execution_count": null,
   "metadata": {},
   "outputs": [],
   "source": []
  },
  {
   "cell_type": "code",
   "execution_count": 6,
   "metadata": {},
   "outputs": [
    {
     "data": {
      "text/plain": [
       "0.7233515631590083"
      ]
     },
     "execution_count": 6,
     "metadata": {},
     "output_type": "execute_result"
    }
   ],
   "source": [
    "# full model\n",
    "model.fit(tr_X, tr_y)\n",
    "roc_auc_score(val_y, model.predict_proba(val_X)[:,1])"
   ]
  },
  {
   "cell_type": "code",
   "execution_count": 7,
   "metadata": {},
   "outputs": [
    {
     "data": {
      "text/plain": [
       "0.7359893974425812"
      ]
     },
     "execution_count": 7,
     "metadata": {},
     "output_type": "execute_result"
    }
   ],
   "source": [
    "# selected model\n",
    "model.fit(tr_X[features], tr_y)\n",
    "roc_auc_score(val_y, model.predict_proba(val_X[features])[:,1])"
   ]
  },
  {
   "cell_type": "code",
   "execution_count": null,
   "metadata": {},
   "outputs": [],
   "source": []
  },
  {
   "cell_type": "code",
   "execution_count": 8,
   "metadata": {},
   "outputs": [
    {
     "name": "stdout",
     "output_type": "stream",
     "text": [
      "iter: 1 0.7428942053595998\n",
      "iter: 2 0.7435724869356469\n",
      "iter: 3 0.7454412183624166\n",
      "iter: 4 0.7454412183624166\n",
      "total # of feature: 72, reduced: 70\n"
     ]
    }
   ],
   "source": [
    "model = lgb.LGBMClassifier(random_state=42, n_jobs=-1)\n",
    "features, score = GA_select(tr_X, tr_y, val_X, val_y, model, roc_auc_score)\n",
    "print(f'total # of feature: {tr_X.shape[1]}, reduced: {len(features)}')"
   ]
  },
  {
   "cell_type": "code",
   "execution_count": 9,
   "metadata": {},
   "outputs": [
    {
     "data": {
      "text/plain": [
       "0.7421952676550264"
      ]
     },
     "execution_count": 9,
     "metadata": {},
     "output_type": "execute_result"
    }
   ],
   "source": [
    "# full model\n",
    "model.fit(tr_X, tr_y)\n",
    "roc_auc_score(val_y, model.predict_proba(val_X)[:,1])"
   ]
  },
  {
   "cell_type": "code",
   "execution_count": 10,
   "metadata": {},
   "outputs": [
    {
     "data": {
      "text/plain": [
       "0.7454412183624166"
      ]
     },
     "execution_count": 10,
     "metadata": {},
     "output_type": "execute_result"
    }
   ],
   "source": [
    "# selected model\n",
    "model.fit(tr_X[features], tr_y)\n",
    "roc_auc_score(val_y, model.predict_proba(val_X[features])[:,1])"
   ]
  },
  {
   "cell_type": "code",
   "execution_count": null,
   "metadata": {},
   "outputs": [],
   "source": []
  }
 ],
 "metadata": {
  "kernelspec": {
   "display_name": "Python 3",
   "language": "python",
   "name": "python3"
  },
  "language_info": {
   "codemirror_mode": {
    "name": "ipython",
    "version": 3
   },
   "file_extension": ".py",
   "mimetype": "text/x-python",
   "name": "python",
   "nbconvert_exporter": "python",
   "pygments_lexer": "ipython3",
   "version": "3.7.7"
  }
 },
 "nbformat": 4,
 "nbformat_minor": 4
}
