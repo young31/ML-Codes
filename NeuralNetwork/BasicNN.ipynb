{
 "cells": [
  {
   "cell_type": "code",
   "execution_count": 1,
   "metadata": {},
   "outputs": [],
   "source": [
    "import numpy as np\n",
    "import pandas as pd\n",
    "\n",
    "import seaborn as sns\n",
    "import matplotlib.pyplot as plt\n",
    "\n",
    "import os\n",
    "import gc\n",
    "from tqdm import tqdm\n",
    "import random\n",
    "\n",
    "import warnings\n",
    "warnings.filterwarnings('ignore')"
   ]
  },
  {
   "cell_type": "code",
   "execution_count": 2,
   "metadata": {},
   "outputs": [
    {
     "name": "stderr",
     "output_type": "stream",
     "text": [
      "Using TensorFlow backend.\n"
     ]
    }
   ],
   "source": [
    "import keras\n",
    "import tensorflow as tf\n",
    "from tensorflow.keras import optimizers, callbacks\n",
    "from tensorflow.keras.layers import Dense, Concatenate, Activation, Add, BatchNormalization, Dropout, Input\n",
    "from tensorflow.keras.models import Model, Sequential, load_model\n",
    "\n",
    "SEED = 42\n",
    "np.random.seed(SEED)\n",
    "tf.random.set_seed(SEED)\n",
    "os.environ['PYTHONHASHSEED']=str(SEED)\n",
    "random.seed(SEED)\n",
    "gpus = tf.config.experimental.list_physical_devices('GPU')\n",
    "if gpus:\n",
    "    try:\n",
    "        tf.config.experimental.set_memory_growth(gpus[0], True)\n",
    "    except RuntimeError as e:\n",
    "        # 프로그램 시작시에 메모리 증가가 설정되어야만 합니다\n",
    "        print(e)\n",
    "\n",
    "def mish(x):\n",
    "    return x*tf.math.tanh(tf.math.softplus(x))\n",
    "\n",
    "def decay(epochs):\n",
    "    init = 1e-3\n",
    "    drop = 10\n",
    "    ratio = 0.9\n",
    "    return max(5e-5, (init * (ratio ** (epochs//drop))))\n",
    "\n",
    "es = callbacks.EarlyStopping(patience=10, restore_best_weights=True)\n",
    "lrs = callbacks.LearningRateScheduler(decay, verbose=0)\n"
   ]
  },
  {
   "cell_type": "code",
   "execution_count": 3,
   "metadata": {},
   "outputs": [],
   "source": [
    "from sklearn.datasets import load_breast_cancer\n",
    "from sklearn.model_selection import train_test_split\n",
    "from sklearn.metrics import roc_auc_score\n",
    "from sklearn.preprocessing import StandardScaler, MinMaxScaler\n",
    "\n",
    "data = load_breast_cancer()\n",
    "data, target = data['data'], data['target']\n",
    "\n",
    "tr_X, val_X, tr_y, val_y = train_test_split(data, target, test_size=0.2, random_state=SEED)"
   ]
  },
  {
   "cell_type": "code",
   "execution_count": 4,
   "metadata": {},
   "outputs": [],
   "source": [
    "scaler = StandardScaler()\n",
    "scaler.fit(tr_X)\n",
    "\n",
    "tr_X = scaler.transform(tr_X)\n",
    "val_X = scaler.transform(val_X)"
   ]
  },
  {
   "cell_type": "code",
   "execution_count": 5,
   "metadata": {},
   "outputs": [],
   "source": [
    "def DenseBlock(n, activation=None, bn=True):\n",
    "    def f(x):\n",
    "        x = Dense(n, kernel_initializer='he_normal')(x)\n",
    "        if bn:\n",
    "            x = BatchNormalization()(x)\n",
    "        x = Activation(activation)(x)\n",
    "        return x\n",
    "    return f\n",
    "\n",
    "\n",
    "def build_NN(input_shape):\n",
    "    inputs = Input(shape=input_shape)\n",
    "    \n",
    "    x = DenseBlock(32, activation=mish)(inputs)\n",
    "    x = DenseBlock(16, activation=mish)(x)\n",
    "    \n",
    "    outputs = Dense(1, activation='sigmoid')(x)\n",
    "    \n",
    "    return Model(inputs, outputs)"
   ]
  },
  {
   "cell_type": "code",
   "execution_count": 6,
   "metadata": {},
   "outputs": [],
   "source": [
    "nn = build_NN(tr_X.shape[1:])\n",
    "nn.compile(loss='binary_crossentropy', optimizer=optimizers.Adam())"
   ]
  },
  {
   "cell_type": "code",
   "execution_count": 7,
   "metadata": {
    "scrolled": true
   },
   "outputs": [
    {
     "name": "stdout",
     "output_type": "stream",
     "text": [
      "Train on 386 samples, validate on 69 samples\n",
      "Epoch 1/150\n",
      "386/386 [==============================] - 1s 2ms/sample - loss: 0.4917 - val_loss: 0.3358\n",
      "Epoch 2/150\n",
      "386/386 [==============================] - 0s 220us/sample - loss: 0.3929 - val_loss: 0.2777\n",
      "Epoch 3/150\n",
      "386/386 [==============================] - 0s 225us/sample - loss: 0.3263 - val_loss: 0.2425\n",
      "Epoch 4/150\n",
      "386/386 [==============================] - 0s 189us/sample - loss: 0.2735 - val_loss: 0.2230\n",
      "Epoch 5/150\n",
      "386/386 [==============================] - 0s 207us/sample - loss: 0.2552 - val_loss: 0.2078\n",
      "Epoch 6/150\n",
      "386/386 [==============================] - 0s 205us/sample - loss: 0.2386 - val_loss: 0.1961\n",
      "Epoch 7/150\n",
      "386/386 [==============================] - 0s 171us/sample - loss: 0.2150 - val_loss: 0.1859\n",
      "Epoch 8/150\n",
      "386/386 [==============================] - 0s 187us/sample - loss: 0.2005 - val_loss: 0.1776\n",
      "Epoch 9/150\n",
      "386/386 [==============================] - 0s 183us/sample - loss: 0.1907 - val_loss: 0.1711\n",
      "Epoch 10/150\n",
      "386/386 [==============================] - 0s 202us/sample - loss: 0.1847 - val_loss: 0.1647\n",
      "Epoch 11/150\n",
      "386/386 [==============================] - 0s 197us/sample - loss: 0.1626 - val_loss: 0.1595\n",
      "Epoch 12/150\n",
      "386/386 [==============================] - 0s 187us/sample - loss: 0.1707 - val_loss: 0.1559\n",
      "Epoch 13/150\n",
      "386/386 [==============================] - 0s 207us/sample - loss: 0.1636 - val_loss: 0.1528\n",
      "Epoch 14/150\n",
      "386/386 [==============================] - 0s 225us/sample - loss: 0.1668 - val_loss: 0.1505\n",
      "Epoch 15/150\n",
      "386/386 [==============================] - 0s 179us/sample - loss: 0.1511 - val_loss: 0.1480\n",
      "Epoch 16/150\n",
      "386/386 [==============================] - 0s 187us/sample - loss: 0.1365 - val_loss: 0.1457\n",
      "Epoch 17/150\n",
      "386/386 [==============================] - 0s 212us/sample - loss: 0.1330 - val_loss: 0.1437\n",
      "Epoch 18/150\n",
      "386/386 [==============================] - 0s 205us/sample - loss: 0.1360 - val_loss: 0.1415\n",
      "Epoch 19/150\n",
      "386/386 [==============================] - 0s 174us/sample - loss: 0.1668 - val_loss: 0.1405\n",
      "Epoch 20/150\n",
      "386/386 [==============================] - 0s 197us/sample - loss: 0.1195 - val_loss: 0.1422\n",
      "Epoch 21/150\n",
      "386/386 [==============================] - 0s 179us/sample - loss: 0.1330 - val_loss: 0.1409\n",
      "Epoch 22/150\n",
      "386/386 [==============================] - 0s 199us/sample - loss: 0.1350 - val_loss: 0.1381\n",
      "Epoch 23/150\n",
      "386/386 [==============================] - 0s 205us/sample - loss: 0.1126 - val_loss: 0.1377\n",
      "Epoch 24/150\n",
      "386/386 [==============================] - 0s 219us/sample - loss: 0.1194 - val_loss: 0.1358\n",
      "Epoch 25/150\n",
      "386/386 [==============================] - 0s 210us/sample - loss: 0.1112 - val_loss: 0.1329\n",
      "Epoch 26/150\n",
      "386/386 [==============================] - 0s 199us/sample - loss: 0.1280 - val_loss: 0.1376\n",
      "Epoch 27/150\n",
      "386/386 [==============================] - 0s 200us/sample - loss: 0.1268 - val_loss: 0.1365\n",
      "Epoch 28/150\n",
      "386/386 [==============================] - 0s 189us/sample - loss: 0.1050 - val_loss: 0.1354\n",
      "Epoch 29/150\n",
      "386/386 [==============================] - 0s 158us/sample - loss: 0.1038 - val_loss: 0.1336\n",
      "Epoch 30/150\n",
      "386/386 [==============================] - 0s 197us/sample - loss: 0.1038 - val_loss: 0.1318\n",
      "Epoch 31/150\n",
      "386/386 [==============================] - 0s 168us/sample - loss: 0.1261 - val_loss: 0.1302\n",
      "Epoch 32/150\n",
      "386/386 [==============================] - 0s 212us/sample - loss: 0.0972 - val_loss: 0.1296\n",
      "Epoch 33/150\n",
      "386/386 [==============================] - 0s 199us/sample - loss: 0.0970 - val_loss: 0.1287\n",
      "Epoch 34/150\n",
      "386/386 [==============================] - 0s 218us/sample - loss: 0.0997 - val_loss: 0.1297\n",
      "Epoch 35/150\n",
      "386/386 [==============================] - 0s 189us/sample - loss: 0.1059 - val_loss: 0.1292\n",
      "Epoch 36/150\n",
      "386/386 [==============================] - 0s 192us/sample - loss: 0.0891 - val_loss: 0.1290\n",
      "Epoch 37/150\n",
      "386/386 [==============================] - 0s 202us/sample - loss: 0.1089 - val_loss: 0.1264\n",
      "Epoch 38/150\n",
      "386/386 [==============================] - 0s 174us/sample - loss: 0.1075 - val_loss: 0.1261\n",
      "Epoch 39/150\n",
      "386/386 [==============================] - 0s 171us/sample - loss: 0.0913 - val_loss: 0.1263\n",
      "Epoch 40/150\n",
      "386/386 [==============================] - 0s 174us/sample - loss: 0.0956 - val_loss: 0.1234\n",
      "Epoch 41/150\n",
      "386/386 [==============================] - 0s 176us/sample - loss: 0.0935 - val_loss: 0.1228\n",
      "Epoch 42/150\n",
      "386/386 [==============================] - 0s 181us/sample - loss: 0.1057 - val_loss: 0.1209\n",
      "Epoch 43/150\n",
      "386/386 [==============================] - 0s 163us/sample - loss: 0.1001 - val_loss: 0.1182\n",
      "Epoch 44/150\n",
      "386/386 [==============================] - 0s 179us/sample - loss: 0.0920 - val_loss: 0.1177\n",
      "Epoch 45/150\n",
      "386/386 [==============================] - 0s 168us/sample - loss: 0.0820 - val_loss: 0.1168\n",
      "Epoch 46/150\n",
      "386/386 [==============================] - 0s 184us/sample - loss: 0.1054 - val_loss: 0.1170\n",
      "Epoch 47/150\n",
      "386/386 [==============================] - 0s 184us/sample - loss: 0.1029 - val_loss: 0.1172\n",
      "Epoch 48/150\n",
      "386/386 [==============================] - 0s 179us/sample - loss: 0.0884 - val_loss: 0.1177\n",
      "Epoch 49/150\n",
      "386/386 [==============================] - 0s 179us/sample - loss: 0.0904 - val_loss: 0.1163\n",
      "Epoch 50/150\n",
      "386/386 [==============================] - 0s 171us/sample - loss: 0.1094 - val_loss: 0.1163\n",
      "Epoch 51/150\n",
      "386/386 [==============================] - 0s 171us/sample - loss: 0.1010 - val_loss: 0.1183\n",
      "Epoch 52/150\n",
      "386/386 [==============================] - 0s 184us/sample - loss: 0.1087 - val_loss: 0.1184\n",
      "Epoch 53/150\n",
      "386/386 [==============================] - 0s 192us/sample - loss: 0.0752 - val_loss: 0.1162\n",
      "Epoch 54/150\n",
      "386/386 [==============================] - 0s 196us/sample - loss: 0.0875 - val_loss: 0.1145\n",
      "Epoch 55/150\n",
      "386/386 [==============================] - 0s 171us/sample - loss: 0.0860 - val_loss: 0.1153\n",
      "Epoch 56/150\n",
      "386/386 [==============================] - 0s 187us/sample - loss: 0.0790 - val_loss: 0.1137\n",
      "Epoch 57/150\n",
      "386/386 [==============================] - 0s 225us/sample - loss: 0.0968 - val_loss: 0.1117\n",
      "Epoch 58/150\n",
      "386/386 [==============================] - 0s 166us/sample - loss: 0.0784 - val_loss: 0.1109\n",
      "Epoch 59/150\n",
      "386/386 [==============================] - 0s 171us/sample - loss: 0.0734 - val_loss: 0.1100\n",
      "Epoch 60/150\n",
      "386/386 [==============================] - 0s 194us/sample - loss: 0.0966 - val_loss: 0.1081\n",
      "Epoch 61/150\n",
      "386/386 [==============================] - 0s 171us/sample - loss: 0.0875 - val_loss: 0.1064\n",
      "Epoch 62/150\n",
      "386/386 [==============================] - 0s 168us/sample - loss: 0.0941 - val_loss: 0.1059\n",
      "Epoch 63/150\n",
      "386/386 [==============================] - 0s 171us/sample - loss: 0.0829 - val_loss: 0.1082\n",
      "Epoch 64/150\n",
      "386/386 [==============================] - 0s 179us/sample - loss: 0.0750 - val_loss: 0.1066\n",
      "Epoch 65/150\n",
      "386/386 [==============================] - 0s 189us/sample - loss: 0.0935 - val_loss: 0.1072\n",
      "Epoch 66/150\n",
      "386/386 [==============================] - 0s 187us/sample - loss: 0.0863 - val_loss: 0.1075\n",
      "Epoch 67/150\n",
      "386/386 [==============================] - 0s 163us/sample - loss: 0.0759 - val_loss: 0.1114\n",
      "Epoch 68/150\n",
      "386/386 [==============================] - 0s 197us/sample - loss: 0.0898 - val_loss: 0.1129\n",
      "Epoch 69/150\n",
      "386/386 [==============================] - 0s 184us/sample - loss: 0.0715 - val_loss: 0.1166\n",
      "Epoch 70/150\n",
      "386/386 [==============================] - 0s 175us/sample - loss: 0.0797 - val_loss: 0.1152\n",
      "Epoch 71/150\n",
      "386/386 [==============================] - 0s 173us/sample - loss: 0.0885 - val_loss: 0.1144\n",
      "Epoch 72/150\n",
      "386/386 [==============================] - 0s 181us/sample - loss: 0.0671 - val_loss: 0.1137\n"
     ]
    },
    {
     "data": {
      "text/plain": [
       "<tensorflow.python.keras.callbacks.History at 0x112c9f0f648>"
      ]
     },
     "execution_count": 7,
     "metadata": {},
     "output_type": "execute_result"
    }
   ],
   "source": [
    "nn.fit(tr_X, tr_y,\n",
    "      epochs=150,\n",
    "      validation_split=0.15,\n",
    "      callbacks=[es, lrs])"
   ]
  },
  {
   "cell_type": "code",
   "execution_count": 8,
   "metadata": {},
   "outputs": [
    {
     "data": {
      "text/plain": [
       "0.9944317065181788"
      ]
     },
     "execution_count": 8,
     "metadata": {},
     "output_type": "execute_result"
    }
   ],
   "source": [
    "roc_auc_score(val_y, nn.predict(val_X))"
   ]
  }
 ],
 "metadata": {
  "kernelspec": {
   "display_name": "Python 3",
   "language": "python",
   "name": "python3"
  },
  "language_info": {
   "codemirror_mode": {
    "name": "ipython",
    "version": 3
   },
   "file_extension": ".py",
   "mimetype": "text/x-python",
   "name": "python",
   "nbconvert_exporter": "python",
   "pygments_lexer": "ipython3",
   "version": "3.7.7"
  },
  "toc": {
   "base_numbering": 1,
   "nav_menu": {},
   "number_sections": true,
   "sideBar": true,
   "skip_h1_title": false,
   "title_cell": "Table of Contents",
   "title_sidebar": "Contents",
   "toc_cell": false,
   "toc_position": {},
   "toc_section_display": true,
   "toc_window_display": false
  }
 },
 "nbformat": 4,
 "nbformat_minor": 4
}
