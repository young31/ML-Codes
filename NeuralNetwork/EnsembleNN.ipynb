{
 "cells": [
  {
   "cell_type": "code",
   "execution_count": 1,
   "metadata": {},
   "outputs": [],
   "source": [
    "import numpy as np\n",
    "import pandas as pd\n",
    "\n",
    "import seaborn as sns\n",
    "import matplotlib.pyplot as plt\n",
    "\n",
    "import os\n",
    "import gc\n",
    "from tqdm import tqdm\n",
    "import random\n",
    "\n",
    "import warnings\n",
    "warnings.filterwarnings('ignore')"
   ]
  },
  {
   "cell_type": "code",
   "execution_count": 2,
   "metadata": {},
   "outputs": [
    {
     "name": "stderr",
     "output_type": "stream",
     "text": [
      "Using TensorFlow backend.\n"
     ]
    }
   ],
   "source": [
    "import keras\n",
    "import tensorflow as tf\n",
    "from tensorflow.keras import optimizers, callbacks\n",
    "from tensorflow.keras.layers import Dense, Concatenate, Activation, Add, BatchNormalization, Dropout, Input\n",
    "from tensorflow.keras.models import Model, Sequential, load_model\n",
    "\n",
    "SEED = 42\n",
    "np.random.seed(SEED)\n",
    "tf.random.set_seed(SEED)\n",
    "os.environ['PYTHONHASHSEED']=str(SEED)\n",
    "random.seed(SEED)\n",
    "gpus = tf.config.experimental.list_physical_devices('GPU')\n",
    "if gpus:\n",
    "    try:\n",
    "        tf.config.experimental.set_memory_growth(gpus[0], True)\n",
    "    except RuntimeError as e:\n",
    "        # 프로그램 시작시에 메모리 증가가 설정되어야만 합니다\n",
    "        print(e)\n",
    "\n",
    "def mish(x):\n",
    "    return x*tf.math.tanh(tf.math.softplus(x))\n",
    "\n",
    "def decay(epochs):\n",
    "    init = 1e-3\n",
    "    drop = 10\n",
    "    ratio = 0.9\n",
    "    return max(5e-5, (init * (ratio ** (epochs//drop))))\n",
    "\n",
    "es = callbacks.EarlyStopping(patience=10, restore_best_weights=True)\n",
    "lrs = callbacks.LearningRateScheduler(decay, verbose=0)\n"
   ]
  },
  {
   "cell_type": "code",
   "execution_count": 3,
   "metadata": {},
   "outputs": [],
   "source": [
    "from sklearn.datasets import load_breast_cancer\n",
    "from sklearn.model_selection import train_test_split\n",
    "from sklearn.metrics import roc_auc_score\n",
    "from sklearn.preprocessing import StandardScaler, MinMaxScaler\n",
    "\n",
    "data = load_breast_cancer()\n",
    "data, target = data['data'], data['target']\n",
    "\n",
    "tr_X, val_X, tr_y, val_y = train_test_split(data, target, test_size=0.2, random_state=SEED)"
   ]
  },
  {
   "cell_type": "code",
   "execution_count": 4,
   "metadata": {},
   "outputs": [],
   "source": [
    "scaler = StandardScaler()\n",
    "scaler.fit(tr_X)\n",
    "\n",
    "tr_X = scaler.transform(tr_X)\n",
    "val_X = scaler.transform(val_X)"
   ]
  },
  {
   "cell_type": "code",
   "execution_count": 5,
   "metadata": {},
   "outputs": [],
   "source": [
    "def DenseBlock(n, activation=None, bn=True):\n",
    "    def f(x):\n",
    "        x = Dense(n, kernel_initializer='he_normal')(x)\n",
    "        if bn:\n",
    "            x = BatchNormalization()(x)\n",
    "        x = Activation(activation)(x)\n",
    "        return x\n",
    "    return f\n",
    "\n",
    "\n",
    "def build_StackNN(input_shape):\n",
    "    inputs = Input(shape=input_shape)\n",
    "    \n",
    "    x1 = DenseBlock(32, activation=mish)(inputs)\n",
    "    x1 = DenseBlock(16, activation=mish)(x1)\n",
    "    x1_out = Dense(1, activation='sigmoid')(x1)\n",
    "    \n",
    "    x2 = DenseBlock(32, activation=mish)(inputs)\n",
    "    x2 = DenseBlock(16, activation=mish)(x2)\n",
    "    x2_out = Dense(1, activation='sigmoid')(x2)\n",
    "    \n",
    "    x3 = DenseBlock(32, activation=mish)(inputs)\n",
    "    x3 = DenseBlock(16, activation=mish)(x3)\n",
    "    x3_out = Dense(1, activation='sigmoid')(x3)\n",
    "    \n",
    "    x = Concatenate()([x1, x2, x3])\n",
    "    x = DenseBlock(16)(x)\n",
    "    x_out = Dense(1, activation='sigmoid', name='tot')(x)\n",
    "    \n",
    "    return Model(inputs, [x_out, x1_out, x2_out, x3_out])"
   ]
  },
  {
   "cell_type": "code",
   "execution_count": 6,
   "metadata": {
    "scrolled": true
   },
   "outputs": [],
   "source": [
    "nn = build_StackNN(tr_X.shape[1:])\n",
    "nn.compile(loss='binary_crossentropy', optimizer=optimizers.Adam())\n",
    "\n",
    "es = callbacks.EarlyStopping(patience=10, restore_best_weights=True, monitor='val_tot_loss')"
   ]
  },
  {
   "cell_type": "code",
   "execution_count": 7,
   "metadata": {
    "scrolled": true
   },
   "outputs": [
    {
     "name": "stdout",
     "output_type": "stream",
     "text": [
      "Train on 386 samples, validate on 69 samples\n",
      "Epoch 1/150\n",
      "386/386 [==============================] - 2s 6ms/sample - loss: 2.3215 - tot_loss: 0.5745 - dense_2_loss: 0.5505 - dense_5_loss: 0.6116 - dense_8_loss: 0.6657 - val_loss: 1.9599 - val_tot_loss: 0.4718 - val_dense_2_loss: 0.3711 - val_dense_5_loss: 0.5039 - val_dense_8_loss: 0.7875\n",
      "Epoch 2/150\n",
      "386/386 [==============================] - 0s 596us/sample - loss: 1.7084 - tot_loss: 0.4317 - dense_2_loss: 0.4795 - dense_5_loss: 0.4524 - dense_8_loss: 0.5198 - val_loss: 1.4003 - val_tot_loss: 0.2782 - val_dense_2_loss: 0.3203 - val_dense_5_loss: 0.3086 - val_dense_8_loss: 0.5502\n",
      "Epoch 3/150\n",
      "386/386 [==============================] - 0s 627us/sample - loss: 1.3841 - tot_loss: 0.3343 - dense_2_loss: 0.4255 - dense_5_loss: 0.3923 - dense_8_loss: 0.4518 - val_loss: 1.1288 - val_tot_loss: 0.2191 - val_dense_2_loss: 0.2830 - val_dense_5_loss: 0.2354 - val_dense_8_loss: 0.4042\n",
      "Epoch 4/150\n",
      "386/386 [==============================] - 0s 634us/sample - loss: 1.1724 - tot_loss: 0.2071 - dense_2_loss: 0.3212 - dense_5_loss: 0.2631 - dense_8_loss: 0.3264 - val_loss: 0.9985 - val_tot_loss: 0.1971 - val_dense_2_loss: 0.2594 - val_dense_5_loss: 0.2042 - val_dense_8_loss: 0.3408\n",
      "Epoch 5/150\n",
      "386/386 [==============================] - 0s 598us/sample - loss: 1.1085 - tot_loss: 0.2837 - dense_2_loss: 0.3732 - dense_5_loss: 0.3071 - dense_8_loss: 0.3370 - val_loss: 0.8970 - val_tot_loss: 0.1763 - val_dense_2_loss: 0.2405 - val_dense_5_loss: 0.1815 - val_dense_8_loss: 0.2965\n",
      "Epoch 6/150\n",
      "386/386 [==============================] - 0s 549us/sample - loss: 1.0277 - tot_loss: 0.1861 - dense_2_loss: 0.2772 - dense_5_loss: 0.2290 - dense_8_loss: 0.2820 - val_loss: 0.8289 - val_tot_loss: 0.1591 - val_dense_2_loss: 0.2264 - val_dense_5_loss: 0.1699 - val_dense_8_loss: 0.2670\n",
      "Epoch 7/150\n",
      "386/386 [==============================] - 0s 521us/sample - loss: 0.9193 - tot_loss: 0.2430 - dense_2_loss: 0.3364 - dense_5_loss: 0.2448 - dense_8_loss: 0.3040 - val_loss: 0.7792 - val_tot_loss: 0.1498 - val_dense_2_loss: 0.2146 - val_dense_5_loss: 0.1620 - val_dense_8_loss: 0.2444\n",
      "Epoch 8/150\n",
      "386/386 [==============================] - 0s 523us/sample - loss: 0.8478 - tot_loss: 0.2019 - dense_2_loss: 0.2951 - dense_5_loss: 0.2576 - dense_8_loss: 0.3032 - val_loss: 0.7370 - val_tot_loss: 0.1407 - val_dense_2_loss: 0.2037 - val_dense_5_loss: 0.1561 - val_dense_8_loss: 0.2281\n",
      "Epoch 9/150\n",
      "386/386 [==============================] - 0s 562us/sample - loss: 0.8197 - tot_loss: 0.2244 - dense_2_loss: 0.2875 - dense_5_loss: 0.2311 - dense_8_loss: 0.2749 - val_loss: 0.7084 - val_tot_loss: 0.1350 - val_dense_2_loss: 0.1946 - val_dense_5_loss: 0.1527 - val_dense_8_loss: 0.2152\n",
      "Epoch 10/150\n",
      "386/386 [==============================] - 0s 590us/sample - loss: 0.7817 - tot_loss: 0.1381 - dense_2_loss: 0.2261 - dense_5_loss: 0.1751 - dense_8_loss: 0.2196 - val_loss: 0.6825 - val_tot_loss: 0.1306 - val_dense_2_loss: 0.1860 - val_dense_5_loss: 0.1465 - val_dense_8_loss: 0.2062\n",
      "Epoch 11/150\n",
      "386/386 [==============================] - 0s 528us/sample - loss: 0.6995 - tot_loss: 0.1178 - dense_2_loss: 0.1968 - dense_5_loss: 0.1611 - dense_8_loss: 0.1871 - val_loss: 0.6611 - val_tot_loss: 0.1254 - val_dense_2_loss: 0.1800 - val_dense_5_loss: 0.1419 - val_dense_8_loss: 0.1986\n",
      "Epoch 12/150\n",
      "386/386 [==============================] - 0s 622us/sample - loss: 0.7365 - tot_loss: 0.1307 - dense_2_loss: 0.2030 - dense_5_loss: 0.1948 - dense_8_loss: 0.2032 - val_loss: 0.6406 - val_tot_loss: 0.1192 - val_dense_2_loss: 0.1758 - val_dense_5_loss: 0.1378 - val_dense_8_loss: 0.1907\n",
      "Epoch 13/150\n",
      "386/386 [==============================] - 0s 671us/sample - loss: 0.7036 - tot_loss: 0.1227 - dense_2_loss: 0.2071 - dense_5_loss: 0.1583 - dense_8_loss: 0.2122 - val_loss: 0.6216 - val_tot_loss: 0.1168 - val_dense_2_loss: 0.1713 - val_dense_5_loss: 0.1344 - val_dense_8_loss: 0.1824\n",
      "Epoch 14/150\n",
      "386/386 [==============================] - 0s 591us/sample - loss: 0.7113 - tot_loss: 0.1694 - dense_2_loss: 0.2374 - dense_5_loss: 0.2034 - dense_8_loss: 0.2453 - val_loss: 0.6066 - val_tot_loss: 0.1155 - val_dense_2_loss: 0.1669 - val_dense_5_loss: 0.1327 - val_dense_8_loss: 0.1751\n",
      "Epoch 15/150\n",
      "386/386 [==============================] - 0s 562us/sample - loss: 0.6412 - tot_loss: 0.1531 - dense_2_loss: 0.2298 - dense_5_loss: 0.1972 - dense_8_loss: 0.2138 - val_loss: 0.5878 - val_tot_loss: 0.1094 - val_dense_2_loss: 0.1618 - val_dense_5_loss: 0.1303 - val_dense_8_loss: 0.1687\n",
      "Epoch 16/150\n",
      "386/386 [==============================] - 0s 609us/sample - loss: 0.5764 - tot_loss: 0.0924 - dense_2_loss: 0.1617 - dense_5_loss: 0.1303 - dense_8_loss: 0.1596 - val_loss: 0.5760 - val_tot_loss: 0.1043 - val_dense_2_loss: 0.1581 - val_dense_5_loss: 0.1286 - val_dense_8_loss: 0.1647\n",
      "Epoch 17/150\n",
      "386/386 [==============================] - 0s 544us/sample - loss: 0.5644 - tot_loss: 0.1285 - dense_2_loss: 0.2336 - dense_5_loss: 0.1871 - dense_8_loss: 0.1887 - val_loss: 0.5633 - val_tot_loss: 0.1009 - val_dense_2_loss: 0.1555 - val_dense_5_loss: 0.1259 - val_dense_8_loss: 0.1597\n",
      "Epoch 18/150\n",
      "386/386 [==============================] - 0s 539us/sample - loss: 0.5699 - tot_loss: 0.1635 - dense_2_loss: 0.2198 - dense_5_loss: 0.2056 - dense_8_loss: 0.2420 - val_loss: 0.5532 - val_tot_loss: 0.0975 - val_dense_2_loss: 0.1527 - val_dense_5_loss: 0.1235 - val_dense_8_loss: 0.1552\n",
      "Epoch 19/150\n",
      "386/386 [==============================] - 0s 604us/sample - loss: 0.6938 - tot_loss: 0.2422 - dense_2_loss: 0.2576 - dense_5_loss: 0.2353 - dense_8_loss: 0.2498 - val_loss: 0.5547 - val_tot_loss: 0.0991 - val_dense_2_loss: 0.1529 - val_dense_5_loss: 0.1244 - val_dense_8_loss: 0.1560\n",
      "Epoch 20/150\n",
      "386/386 [==============================] - 0s 593us/sample - loss: 0.5099 - tot_loss: 0.0804 - dense_2_loss: 0.1423 - dense_5_loss: 0.1159 - dense_8_loss: 0.1424 - val_loss: 0.5643 - val_tot_loss: 0.1069 - val_dense_2_loss: 0.1549 - val_dense_5_loss: 0.1237 - val_dense_8_loss: 0.1555\n",
      "Epoch 21/150\n",
      "386/386 [==============================] - 0s 622us/sample - loss: 0.5686 - tot_loss: 0.1737 - dense_2_loss: 0.2098 - dense_5_loss: 0.1941 - dense_8_loss: 0.2298 - val_loss: 0.5586 - val_tot_loss: 0.1059 - val_dense_2_loss: 0.1538 - val_dense_5_loss: 0.1229 - val_dense_8_loss: 0.1523\n",
      "Epoch 22/150\n",
      "386/386 [==============================] - 0s 544us/sample - loss: 0.5647 - tot_loss: 0.1367 - dense_2_loss: 0.2002 - dense_5_loss: 0.1731 - dense_8_loss: 0.1993 - val_loss: 0.5491 - val_tot_loss: 0.1035 - val_dense_2_loss: 0.1542 - val_dense_5_loss: 0.1219 - val_dense_8_loss: 0.1483\n",
      "Epoch 23/150\n",
      "386/386 [==============================] - 0s 596us/sample - loss: 0.4868 - tot_loss: 0.1290 - dense_2_loss: 0.2029 - dense_5_loss: 0.1695 - dense_8_loss: 0.1589 - val_loss: 0.5462 - val_tot_loss: 0.1008 - val_dense_2_loss: 0.1552 - val_dense_5_loss: 0.1213 - val_dense_8_loss: 0.1472\n",
      "Epoch 24/150\n",
      "386/386 [==============================] - 0s 586us/sample - loss: 0.5084 - tot_loss: 0.0902 - dense_2_loss: 0.1431 - dense_5_loss: 0.1239 - dense_8_loss: 0.1677 - val_loss: 0.5368 - val_tot_loss: 0.0977 - val_dense_2_loss: 0.1535 - val_dense_5_loss: 0.1191 - val_dense_8_loss: 0.1446\n",
      "Epoch 25/150\n",
      "386/386 [==============================] - 0s 560us/sample - loss: 0.5030 - tot_loss: 0.2541 - dense_2_loss: 0.2542 - dense_5_loss: 0.2546 - dense_8_loss: 0.2240 - val_loss: 0.5259 - val_tot_loss: 0.0951 - val_dense_2_loss: 0.1497 - val_dense_5_loss: 0.1171 - val_dense_8_loss: 0.1424\n",
      "Epoch 26/150\n",
      "386/386 [==============================] - 0s 547us/sample - loss: 0.5735 - tot_loss: 0.1045 - dense_2_loss: 0.1431 - dense_5_loss: 0.1355 - dense_8_loss: 0.1555 - val_loss: 0.5369 - val_tot_loss: 0.0987 - val_dense_2_loss: 0.1499 - val_dense_5_loss: 0.1195 - val_dense_8_loss: 0.1449\n",
      "Epoch 27/150\n",
      "386/386 [==============================] - 0s 534us/sample - loss: 0.5455 - tot_loss: 0.2269 - dense_2_loss: 0.2499 - dense_5_loss: 0.2207 - dense_8_loss: 0.2148 - val_loss: 0.5330 - val_tot_loss: 0.0990 - val_dense_2_loss: 0.1475 - val_dense_5_loss: 0.1196 - val_dense_8_loss: 0.1430\n",
      "Epoch 28/150\n"
     ]
    },
    {
     "name": "stdout",
     "output_type": "stream",
     "text": [
      "386/386 [==============================] - 0s 575us/sample - loss: 0.4539 - tot_loss: 0.0724 - dense_2_loss: 0.1227 - dense_5_loss: 0.1040 - dense_8_loss: 0.1277 - val_loss: 0.5294 - val_tot_loss: 0.0974 - val_dense_2_loss: 0.1452 - val_dense_5_loss: 0.1187 - val_dense_8_loss: 0.1412\n",
      "Epoch 29/150\n",
      "386/386 [==============================] - 0s 570us/sample - loss: 0.4316 - tot_loss: 0.0665 - dense_2_loss: 0.1195 - dense_5_loss: 0.0989 - dense_8_loss: 0.1205 - val_loss: 0.5239 - val_tot_loss: 0.0959 - val_dense_2_loss: 0.1431 - val_dense_5_loss: 0.1171 - val_dense_8_loss: 0.1391\n",
      "Epoch 30/150\n",
      "386/386 [==============================] - 0s 557us/sample - loss: 0.4440 - tot_loss: 0.0722 - dense_2_loss: 0.1199 - dense_5_loss: 0.1167 - dense_8_loss: 0.1227 - val_loss: 0.5202 - val_tot_loss: 0.0952 - val_dense_2_loss: 0.1411 - val_dense_5_loss: 0.1164 - val_dense_8_loss: 0.1368\n",
      "Epoch 31/150\n",
      "386/386 [==============================] - 0s 619us/sample - loss: 0.5543 - tot_loss: 0.1704 - dense_2_loss: 0.1787 - dense_5_loss: 0.2303 - dense_8_loss: 0.1725 - val_loss: 0.5164 - val_tot_loss: 0.0955 - val_dense_2_loss: 0.1401 - val_dense_5_loss: 0.1158 - val_dense_8_loss: 0.1358\n",
      "Epoch 32/150\n",
      "386/386 [==============================] - 0s 521us/sample - loss: 0.4247 - tot_loss: 0.1032 - dense_2_loss: 0.1661 - dense_5_loss: 0.1487 - dense_8_loss: 0.1405 - val_loss: 0.5092 - val_tot_loss: 0.0950 - val_dense_2_loss: 0.1385 - val_dense_5_loss: 0.1148 - val_dense_8_loss: 0.1331\n",
      "Epoch 33/150\n",
      "386/386 [==============================] - 0s 560us/sample - loss: 0.4247 - tot_loss: 0.1204 - dense_2_loss: 0.1503 - dense_5_loss: 0.1395 - dense_8_loss: 0.1421 - val_loss: 0.4988 - val_tot_loss: 0.0915 - val_dense_2_loss: 0.1365 - val_dense_5_loss: 0.1125 - val_dense_8_loss: 0.1305\n",
      "Epoch 34/150\n",
      "386/386 [==============================] - 0s 515us/sample - loss: 0.4343 - tot_loss: 0.1966 - dense_2_loss: 0.1803 - dense_5_loss: 0.1735 - dense_8_loss: 0.2124 - val_loss: 0.5024 - val_tot_loss: 0.0931 - val_dense_2_loss: 0.1340 - val_dense_5_loss: 0.1115 - val_dense_8_loss: 0.1292\n",
      "Epoch 35/150\n",
      "386/386 [==============================] - 0s 513us/sample - loss: 0.4618 - tot_loss: 0.0824 - dense_2_loss: 0.1187 - dense_5_loss: 0.1049 - dense_8_loss: 0.1269 - val_loss: 0.4986 - val_tot_loss: 0.0935 - val_dense_2_loss: 0.1324 - val_dense_5_loss: 0.1105 - val_dense_8_loss: 0.1277\n",
      "Epoch 36/150\n",
      "386/386 [==============================] - 0s 583us/sample - loss: 0.3919 - tot_loss: 0.0600 - dense_2_loss: 0.1030 - dense_5_loss: 0.0953 - dense_8_loss: 0.1103 - val_loss: 0.5016 - val_tot_loss: 0.0953 - val_dense_2_loss: 0.1327 - val_dense_5_loss: 0.1108 - val_dense_8_loss: 0.1280\n",
      "Epoch 37/150\n",
      "386/386 [==============================] - 0s 528us/sample - loss: 0.4774 - tot_loss: 0.2415 - dense_2_loss: 0.2486 - dense_5_loss: 0.2240 - dense_8_loss: 0.2568 - val_loss: 0.4894 - val_tot_loss: 0.0915 - val_dense_2_loss: 0.1292 - val_dense_5_loss: 0.1086 - val_dense_8_loss: 0.1259\n",
      "Epoch 38/150\n",
      "386/386 [==============================] - 0s 560us/sample - loss: 0.4661 - tot_loss: 0.0775 - dense_2_loss: 0.1155 - dense_5_loss: 0.1122 - dense_8_loss: 0.1315 - val_loss: 0.4883 - val_tot_loss: 0.0922 - val_dense_2_loss: 0.1287 - val_dense_5_loss: 0.1061 - val_dense_8_loss: 0.1259\n",
      "Epoch 39/150\n",
      "386/386 [==============================] - 0s 606us/sample - loss: 0.4019 - tot_loss: 0.0662 - dense_2_loss: 0.1082 - dense_5_loss: 0.0955 - dense_8_loss: 0.1107 - val_loss: 0.4902 - val_tot_loss: 0.0917 - val_dense_2_loss: 0.1278 - val_dense_5_loss: 0.1064 - val_dense_8_loss: 0.1262\n",
      "Epoch 40/150\n",
      "386/386 [==============================] - 0s 539us/sample - loss: 0.4102 - tot_loss: 0.0690 - dense_2_loss: 0.1044 - dense_5_loss: 0.1007 - dense_8_loss: 0.1195 - val_loss: 0.4797 - val_tot_loss: 0.0884 - val_dense_2_loss: 0.1249 - val_dense_5_loss: 0.1049 - val_dense_8_loss: 0.1231\n",
      "Epoch 41/150\n",
      "386/386 [==============================] - 0s 513us/sample - loss: 0.4337 - tot_loss: 0.0738 - dense_2_loss: 0.1047 - dense_5_loss: 0.1098 - dense_8_loss: 0.1202 - val_loss: 0.4806 - val_tot_loss: 0.0897 - val_dense_2_loss: 0.1259 - val_dense_5_loss: 0.1050 - val_dense_8_loss: 0.1220\n",
      "Epoch 42/150\n",
      "386/386 [==============================] - 0s 585us/sample - loss: 0.4626 - tot_loss: 0.2447 - dense_2_loss: 0.2538 - dense_5_loss: 0.1792 - dense_8_loss: 0.2605 - val_loss: 0.4722 - val_tot_loss: 0.0863 - val_dense_2_loss: 0.1211 - val_dense_5_loss: 0.1030 - val_dense_8_loss: 0.1202\n",
      "Epoch 43/150\n",
      "386/386 [==============================] - 0s 628us/sample - loss: 0.4344 - tot_loss: 0.1240 - dense_2_loss: 0.1470 - dense_5_loss: 0.1869 - dense_8_loss: 0.1617 - val_loss: 0.4657 - val_tot_loss: 0.0860 - val_dense_2_loss: 0.1197 - val_dense_5_loss: 0.1020 - val_dense_8_loss: 0.1197\n",
      "Epoch 44/150\n",
      "386/386 [==============================] - 0s 557us/sample - loss: 0.4141 - tot_loss: 0.0701 - dense_2_loss: 0.1281 - dense_5_loss: 0.0962 - dense_8_loss: 0.1187 - val_loss: 0.4877 - val_tot_loss: 0.0897 - val_dense_2_loss: 0.1192 - val_dense_5_loss: 0.1100 - val_dense_8_loss: 0.1252\n",
      "Epoch 45/150\n",
      "386/386 [==============================] - 0s 582us/sample - loss: 0.3697 - tot_loss: 0.0605 - dense_2_loss: 0.0934 - dense_5_loss: 0.0938 - dense_8_loss: 0.1056 - val_loss: 0.4846 - val_tot_loss: 0.0878 - val_dense_2_loss: 0.1160 - val_dense_5_loss: 0.1113 - val_dense_8_loss: 0.1243\n",
      "Epoch 46/150\n",
      "386/386 [==============================] - 0s 544us/sample - loss: 0.4554 - tot_loss: 0.1706 - dense_2_loss: 0.1764 - dense_5_loss: 0.2006 - dense_8_loss: 0.2131 - val_loss: 0.4819 - val_tot_loss: 0.0879 - val_dense_2_loss: 0.1158 - val_dense_5_loss: 0.1084 - val_dense_8_loss: 0.1217\n",
      "Epoch 47/150\n",
      "386/386 [==============================] - 0s 640us/sample - loss: 0.4613 - tot_loss: 0.3094 - dense_2_loss: 0.2435 - dense_5_loss: 0.2641 - dense_8_loss: 0.3229 - val_loss: 0.4753 - val_tot_loss: 0.0874 - val_dense_2_loss: 0.1162 - val_dense_5_loss: 0.1038 - val_dense_8_loss: 0.1202\n",
      "Epoch 48/150\n",
      "386/386 [==============================] - 0s 598us/sample - loss: 0.4091 - tot_loss: 0.0840 - dense_2_loss: 0.1177 - dense_5_loss: 0.2151 - dense_8_loss: 0.1161 - val_loss: 0.4729 - val_tot_loss: 0.0878 - val_dense_2_loss: 0.1155 - val_dense_5_loss: 0.1044 - val_dense_8_loss: 0.1194\n",
      "Epoch 49/150\n",
      "386/386 [==============================] - 0s 565us/sample - loss: 0.4138 - tot_loss: 0.2287 - dense_2_loss: 0.1998 - dense_5_loss: 0.2373 - dense_8_loss: 0.2504 - val_loss: 0.4690 - val_tot_loss: 0.0892 - val_dense_2_loss: 0.1157 - val_dense_5_loss: 0.1038 - val_dense_8_loss: 0.1187\n",
      "Epoch 50/150\n",
      "386/386 [==============================] - 0s 505us/sample - loss: 0.4905 - tot_loss: 0.2466 - dense_2_loss: 0.2338 - dense_5_loss: 0.2470 - dense_8_loss: 0.2673 - val_loss: 0.4699 - val_tot_loss: 0.0902 - val_dense_2_loss: 0.1179 - val_dense_5_loss: 0.1039 - val_dense_8_loss: 0.1184\n",
      "Epoch 51/150\n",
      "386/386 [==============================] - 0s 539us/sample - loss: 0.4620 - tot_loss: 0.0826 - dense_2_loss: 0.1089 - dense_5_loss: 0.1101 - dense_8_loss: 0.1309 - val_loss: 0.4818 - val_tot_loss: 0.0940 - val_dense_2_loss: 0.1200 - val_dense_5_loss: 0.1066 - val_dense_8_loss: 0.1202\n",
      "Epoch 52/150\n",
      "386/386 [==============================] - 0s 668us/sample - loss: 0.4680 - tot_loss: 0.3020 - dense_2_loss: 0.2493 - dense_5_loss: 0.2741 - dense_8_loss: 0.2805 - val_loss: 0.4839 - val_tot_loss: 0.0944 - val_dense_2_loss: 0.1192 - val_dense_5_loss: 0.1056 - val_dense_8_loss: 0.1202\n",
      "Epoch 53/150\n",
      "386/386 [==============================] - 0s 580us/sample - loss: 0.3377 - tot_loss: 0.0532 - dense_2_loss: 0.0853 - dense_5_loss: 0.0816 - dense_8_loss: 0.0983 - val_loss: 0.4784 - val_tot_loss: 0.0939 - val_dense_2_loss: 0.1166 - val_dense_5_loss: 0.1051 - val_dense_8_loss: 0.1210\n"
     ]
    },
    {
     "data": {
      "text/plain": [
       "<tensorflow.python.keras.callbacks.History at 0x2e59d0cd648>"
      ]
     },
     "execution_count": 7,
     "metadata": {},
     "output_type": "execute_result"
    }
   ],
   "source": [
    "nn.fit(tr_X, [tr_y]*4,\n",
    "      epochs=150,\n",
    "      validation_split=0.15,\n",
    "      callbacks=[es, lrs])"
   ]
  },
  {
   "cell_type": "code",
   "execution_count": 8,
   "metadata": {},
   "outputs": [
    {
     "data": {
      "text/plain": [
       "0.9944317065181788"
      ]
     },
     "execution_count": 8,
     "metadata": {},
     "output_type": "execute_result"
    }
   ],
   "source": [
    "roc_auc_score(val_y, nn.predict(val_X)[0])"
   ]
  }
 ],
 "metadata": {
  "kernelspec": {
   "display_name": "Python 3",
   "language": "python",
   "name": "python3"
  },
  "language_info": {
   "codemirror_mode": {
    "name": "ipython",
    "version": 3
   },
   "file_extension": ".py",
   "mimetype": "text/x-python",
   "name": "python",
   "nbconvert_exporter": "python",
   "pygments_lexer": "ipython3",
   "version": "3.7.7"
  },
  "toc": {
   "base_numbering": 1,
   "nav_menu": {},
   "number_sections": true,
   "sideBar": true,
   "skip_h1_title": false,
   "title_cell": "Table of Contents",
   "title_sidebar": "Contents",
   "toc_cell": false,
   "toc_position": {},
   "toc_section_display": true,
   "toc_window_display": false
  }
 },
 "nbformat": 4,
 "nbformat_minor": 4
}
