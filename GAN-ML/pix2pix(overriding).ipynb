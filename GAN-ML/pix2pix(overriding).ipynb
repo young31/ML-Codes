{
 "cells": [
  {
   "cell_type": "code",
   "execution_count": 1,
   "metadata": {},
   "outputs": [],
   "source": [
    "import numpy as np\n",
    "import pandas as pd\n",
    "\n",
    "import seaborn as sns\n",
    "import matplotlib.pyplot as plt\n",
    "\n",
    "import os\n",
    "import gc\n",
    "from tqdm import tqdm\n",
    "import random\n",
    "\n",
    "import warnings\n",
    "warnings.filterwarnings('ignore')"
   ]
  },
  {
   "cell_type": "code",
   "execution_count": 2,
   "metadata": {},
   "outputs": [],
   "source": [
    "from tensorflow import keras\n",
    "import tensorflow as tf\n",
    "from tensorflow.keras import optimizers, callbacks, layers, losses\n",
    "from tensorflow.keras.layers import Dense, Concatenate, Activation, Add, BatchNormalization, Dropout, Input\n",
    "from tensorflow.keras.models import Model, Sequential, load_model\n",
    "\n",
    "SEED = 42\n",
    "np.random.seed(SEED)\n",
    "tf.random.set_seed(SEED)\n",
    "os.environ['PYTHONHASHSEED']=str(SEED)\n",
    "random.seed(SEED)\n",
    "gpus = tf.config.experimental.list_physical_devices('GPU')\n",
    "if gpus:\n",
    "    try:\n",
    "        tf.config.experimental.set_memory_growth(gpus[0], True)\n",
    "    except RuntimeError as e:\n",
    "        # 프로그램 시작시에 메모리 증가가 설정되어야만 합니다\n",
    "        print(e)\n",
    "\n",
    "def mish(x):\n",
    "    return x*tf.math.tanh(tf.math.softplus(x))\n",
    "\n",
    "def decay(epochs):\n",
    "    init = 1e-3\n",
    "    drop = 10\n",
    "    ratio = 0.9\n",
    "    return max(5e-5, (init * (ratio ** (epochs//drop))))\n",
    "\n",
    "es = callbacks.EarlyStopping(patience=10, restore_best_weights=True)\n",
    "lrs = callbacks.LearningRateScheduler(decay, verbose=0)\n"
   ]
  },
  {
   "cell_type": "code",
   "execution_count": 3,
   "metadata": {},
   "outputs": [],
   "source": [
    "class GAN(keras.Model):\n",
    "    def __init__(self, x_shape, y_shape):\n",
    "        super(GAN, self).__init__()\n",
    "        self.x_shape  = x_shape\n",
    "        self.y_shape = y_shape\n",
    "        \n",
    "        self.generator = self.build_generator()\n",
    "        self.discriminator = self.build_discriminator()\n",
    "    \n",
    "    def compile(self, g_optim, d_optim, d_loss_fn, recon_loss_fn):\n",
    "        super(GAN, self).compile()\n",
    "        self.g_optim = g_optim\n",
    "        self.d_optim = d_optim\n",
    "        self.d_loss_fn = d_loss_fn\n",
    "        self.recon_loss_fn = recon_loss_fn\n",
    "        \n",
    "    def build_generator(self):\n",
    "        activation = mish\n",
    "        inputs = Input(shape=self.x_shape)\n",
    "        \n",
    "        x = Dense(128, kernel_initializer='he_normal')(inputs)\n",
    "        x = Activation(activation)(x)\n",
    "        x = Dense(256, kernel_initializer='he_normal')(x)\n",
    "        x = Activation(activation)(x)\n",
    "        x = Dense(512, kernel_initializer='he_normal')(x)\n",
    "        x = Activation(activation)(x)\n",
    "        \n",
    "        outputs = Dense(self.y_shape[0], kernel_initializer='he_normal')(x)\n",
    "        return Model(inputs, outputs)\n",
    "    \n",
    "    def build_discriminator(self):\n",
    "        inputs1 = Input(shape = self.x_shape) # feature\n",
    "        inputs2 = Input(shape = self.y_shape) # target\n",
    "        \n",
    "        inputs = Concatenate()([inputs1, inputs2])\n",
    "        \n",
    "        x = Dense(512)(inputs)\n",
    "        x = Dense(256)(x)\n",
    "        x = Dense(128)(x)\n",
    "        \n",
    "        outputs = Dense(1, activation='sigmoid')(x)\n",
    "        \n",
    "        return Model([inputs1, inputs2], [outputs, inputs2])\n",
    "    \n",
    "    def train_step(self, data):\n",
    "        x, y = data\n",
    "        batch_size = tf.shape(x)[0]\n",
    "        \n",
    "        preds_y = self.generator(x)\n",
    "        all_y = tf.concat([y, preds_y], 0)\n",
    "        all_x = tf.concat([x, x], 0)\n",
    "        \n",
    "        fake_labels = tf.ones((batch_size, 1))*0\n",
    "        real_labels = tf.ones((batch_size, 1))\n",
    "        labels = tf.concat([fake_labels, real_labels], 0)\n",
    "        \n",
    "        # keras official tutorial saids add noise to label is important trick\n",
    "        # labels = 0.05*tf.random.uniform(tf.shape(labels))\n",
    "        \n",
    "        # disc / gen alternatively\n",
    "        with tf.GradientTape() as tape:\n",
    "            preds_ = self.generator(x)\n",
    "            validity, _ = self.discriminator([all_x, all_y])\n",
    "            d_loss = self.d_loss_fn(labels, validity)\n",
    "            \n",
    "        grads = tape.gradient(d_loss, self.discriminator.trainable_weights)\n",
    "        self.d_optim.apply_gradients(zip(grads, self.discriminator.trainable_weights))\n",
    "\n",
    "        with tf.GradientTape() as tape:\n",
    "            preds = self.generator(x)\n",
    "            validity, preds = self.discriminator([x, preds])\n",
    "            g_loss = self.recon_loss_fn([real_labels, y], [validity, preds])\n",
    "            \n",
    "        grads = tape.gradient(g_loss, self.generator.trainable_weights)\n",
    "        self.g_optim.apply_gradients(zip(grads, self.generator.trainable_weights))\n",
    "\n",
    "        return {'d_loss': d_loss, 'g_loss': g_loss}\n",
    "    \n",
    "    def sampler(self, batch_size):\n",
    "        return tf.random.normal(shape=(batch_size, self.z_dim))\n"
   ]
  },
  {
   "cell_type": "code",
   "execution_count": 4,
   "metadata": {},
   "outputs": [],
   "source": [
    "gan = GAN((120, ), (3, ))"
   ]
  },
  {
   "cell_type": "code",
   "execution_count": 5,
   "metadata": {},
   "outputs": [],
   "source": [
    "def recon_loss(y_trues, y_preds):\n",
    "    t1, t2 = y_trues\n",
    "    p1, p2 = y_preds\n",
    "    \n",
    "    validity_loss = losses.BinaryCrossentropy()(t1, p1)\n",
    "    recon_loss = losses.MeanAbsoluteError()(t2, p2)\n",
    "    \n",
    "    return validity_loss+recon_loss*100"
   ]
  },
  {
   "cell_type": "code",
   "execution_count": 6,
   "metadata": {},
   "outputs": [],
   "source": [
    "gan.compile(\n",
    "    optimizers.Adam(2e-4),\n",
    "    optimizers.Adam(2e-4),\n",
    "    losses.BinaryCrossentropy(),\n",
    "    recon_loss\n",
    "         )"
   ]
  },
  {
   "cell_type": "code",
   "execution_count": 7,
   "metadata": {},
   "outputs": [],
   "source": [
    "X = np.random.normal(0, 1, (1000, 120))\n",
    "y = np.random.normal(0, 1, (1000, 3))"
   ]
  },
  {
   "cell_type": "code",
   "execution_count": 8,
   "metadata": {
    "scrolled": true
   },
   "outputs": [
    {
     "name": "stdout",
     "output_type": "stream",
     "text": [
      "Epoch 1/20\n",
      "32/32 [==============================] - 0s 6ms/step - d_loss: 0.6071 - g_loss: 1.6666\n",
      "Epoch 2/20\n",
      "32/32 [==============================] - 0s 6ms/step - d_loss: 0.4681 - g_loss: 1.4000\n",
      "Epoch 3/20\n",
      "32/32 [==============================] - 0s 6ms/step - d_loss: 0.4016 - g_loss: 1.3493\n",
      "Epoch 4/20\n",
      "32/32 [==============================] - 0s 6ms/step - d_loss: 0.3577 - g_loss: 1.2895\n",
      "Epoch 5/20\n",
      "32/32 [==============================] - 0s 5ms/step - d_loss: 0.3189 - g_loss: 1.2676\n",
      "Epoch 6/20\n",
      "32/32 [==============================] - 0s 5ms/step - d_loss: 0.2712 - g_loss: 1.2343\n",
      "Epoch 7/20\n",
      "32/32 [==============================] - 0s 5ms/step - d_loss: 0.2609 - g_loss: 1.1943\n",
      "Epoch 8/20\n",
      "32/32 [==============================] - 0s 6ms/step - d_loss: 0.2077 - g_loss: 1.1954\n",
      "Epoch 9/20\n",
      "32/32 [==============================] - 0s 6ms/step - d_loss: 0.1878 - g_loss: 1.1665\n",
      "Epoch 10/20\n",
      "32/32 [==============================] - 0s 5ms/step - d_loss: 0.1675 - g_loss: 1.1305\n",
      "Epoch 11/20\n",
      "32/32 [==============================] - 0s 5ms/step - d_loss: 0.1725 - g_loss: 1.0669\n",
      "Epoch 12/20\n",
      "32/32 [==============================] - 0s 6ms/step - d_loss: 0.1382 - g_loss: 1.0865\n",
      "Epoch 13/20\n",
      "32/32 [==============================] - 0s 5ms/step - d_loss: 0.1551 - g_loss: 1.0307\n",
      "Epoch 14/20\n",
      "32/32 [==============================] - 0s 5ms/step - d_loss: 0.1375 - g_loss: 1.0261\n",
      "Epoch 15/20\n",
      "32/32 [==============================] - 0s 5ms/step - d_loss: 0.1375 - g_loss: 1.0016\n",
      "Epoch 16/20\n",
      "32/32 [==============================] - 0s 5ms/step - d_loss: 0.1126 - g_loss: 1.0163\n",
      "Epoch 17/20\n",
      "32/32 [==============================] - 0s 5ms/step - d_loss: 0.1105 - g_loss: 0.9753\n",
      "Epoch 18/20\n",
      "32/32 [==============================] - 0s 5ms/step - d_loss: 0.1079 - g_loss: 0.9522\n",
      "Epoch 19/20\n",
      "32/32 [==============================] - 0s 5ms/step - d_loss: 0.0990 - g_loss: 0.9384\n",
      "Epoch 20/20\n",
      "32/32 [==============================] - 0s 6ms/step - d_loss: 0.0959 - g_loss: 0.9334\n"
     ]
    },
    {
     "data": {
      "text/plain": [
       "<tensorflow.python.keras.callbacks.History at 0x19e6648ba08>"
      ]
     },
     "execution_count": 8,
     "metadata": {},
     "output_type": "execute_result"
    }
   ],
   "source": [
    "gan.fit(X, y,\n",
    "     epochs=20)"
   ]
  },
  {
   "cell_type": "code",
   "execution_count": 9,
   "metadata": {},
   "outputs": [
    {
     "name": "stdout",
     "output_type": "stream",
     "text": [
      "Model: \"functional_1\"\n",
      "_________________________________________________________________\n",
      "Layer (type)                 Output Shape              Param #   \n",
      "=================================================================\n",
      "input_1 (InputLayer)         [(None, 120)]             0         \n",
      "_________________________________________________________________\n",
      "dense (Dense)                (None, 128)               15488     \n",
      "_________________________________________________________________\n",
      "activation (Activation)      (None, 128)               0         \n",
      "_________________________________________________________________\n",
      "dense_1 (Dense)              (None, 256)               33024     \n",
      "_________________________________________________________________\n",
      "activation_1 (Activation)    (None, 256)               0         \n",
      "_________________________________________________________________\n",
      "dense_2 (Dense)              (None, 512)               131584    \n",
      "_________________________________________________________________\n",
      "activation_2 (Activation)    (None, 512)               0         \n",
      "_________________________________________________________________\n",
      "dense_3 (Dense)              (None, 3)                 1539      \n",
      "=================================================================\n",
      "Total params: 181,635\n",
      "Trainable params: 181,635\n",
      "Non-trainable params: 0\n",
      "_________________________________________________________________\n"
     ]
    }
   ],
   "source": [
    "gan.generator.summary()"
   ]
  },
  {
   "cell_type": "code",
   "execution_count": 10,
   "metadata": {},
   "outputs": [
    {
     "name": "stdout",
     "output_type": "stream",
     "text": [
      "Model: \"functional_3\"\n",
      "__________________________________________________________________________________________________\n",
      "Layer (type)                    Output Shape         Param #     Connected to                     \n",
      "==================================================================================================\n",
      "input_2 (InputLayer)            [(None, 120)]        0                                            \n",
      "__________________________________________________________________________________________________\n",
      "input_3 (InputLayer)            [(None, 3)]          0                                            \n",
      "__________________________________________________________________________________________________\n",
      "concatenate (Concatenate)       (None, 123)          0           input_2[0][0]                    \n",
      "                                                                 input_3[0][0]                    \n",
      "__________________________________________________________________________________________________\n",
      "dense_4 (Dense)                 (None, 512)          63488       concatenate[0][0]                \n",
      "__________________________________________________________________________________________________\n",
      "dense_5 (Dense)                 (None, 256)          131328      dense_4[0][0]                    \n",
      "__________________________________________________________________________________________________\n",
      "dense_6 (Dense)                 (None, 128)          32896       dense_5[0][0]                    \n",
      "__________________________________________________________________________________________________\n",
      "dense_7 (Dense)                 (None, 1)            129         dense_6[0][0]                    \n",
      "==================================================================================================\n",
      "Total params: 227,841\n",
      "Trainable params: 227,841\n",
      "Non-trainable params: 0\n",
      "__________________________________________________________________________________________________\n"
     ]
    }
   ],
   "source": [
    "gan.discriminator.summary()"
   ]
  },
  {
   "cell_type": "code",
   "execution_count": null,
   "metadata": {},
   "outputs": [],
   "source": []
  }
 ],
 "metadata": {
  "kernelspec": {
   "display_name": "Python 3",
   "language": "python",
   "name": "python3"
  },
  "language_info": {
   "codemirror_mode": {
    "name": "ipython",
    "version": 3
   },
   "file_extension": ".py",
   "mimetype": "text/x-python",
   "name": "python",
   "nbconvert_exporter": "python",
   "pygments_lexer": "ipython3",
   "version": "3.7.7"
  },
  "toc": {
   "base_numbering": 1,
   "nav_menu": {},
   "number_sections": true,
   "sideBar": true,
   "skip_h1_title": false,
   "title_cell": "Table of Contents",
   "title_sidebar": "Contents",
   "toc_cell": false,
   "toc_position": {},
   "toc_section_display": true,
   "toc_window_display": false
  }
 },
 "nbformat": 4,
 "nbformat_minor": 4
}